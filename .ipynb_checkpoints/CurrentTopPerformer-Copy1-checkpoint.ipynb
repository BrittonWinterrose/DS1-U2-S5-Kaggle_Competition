{
 "cells": [
  {
   "cell_type": "code",
   "execution_count": 1,
   "metadata": {},
   "outputs": [],
   "source": [
    "# Helpful Encoding :https://towardsdatascience.com/smarter-ways-to-encode-categorical-data-for-machine-learning-part-1-of-3-6dca2f71b159\n"
   ]
  },
  {
   "cell_type": "code",
   "execution_count": 17,
   "metadata": {
    "colab": {
     "base_uri": "https://localhost:8080/",
     "height": 223
    },
    "colab_type": "code",
    "id": "ZORU0qK14eaX",
    "outputId": "ed01a1b9-1f77-4113-f161-ce041a2060b9"
   },
   "outputs": [],
   "source": [
    "%matplotlib inline\n",
    "import matplotlib.pyplot as plt\n",
    "plt.style.use('ggplot')\n",
    "\n",
    "import pandas as pd\n",
    "import numpy as np\n",
    "from math import cos, sin\n",
    "\n",
    "from sklearn.preprocessing import MinMaxScaler, LabelEncoder, OneHotEncoder, OrdinalEncoder, RobustScaler, StandardScaler, PolynomialFeatures\n",
    "from sklearn.impute import SimpleImputer\n",
    "from sklearn.compose import ColumnTransformer\n",
    "from sklearn.pipeline import Pipeline, make_pipeline\n",
    "from sklearn.model_selection import GridSearchCV, train_test_split\n",
    "from sklearn.feature_selection import f_classif, chi2, SelectKBest\n",
    "from sklearn.linear_model import RidgeClassifier, LogisticRegression\n",
    "from sklearn.metrics import accuracy_score, f1_score, confusion_matrix\n",
    "from category_encoders.hashing import HashingEncoder\n",
    "from category_encoders.binary import BinaryEncoder\n",
    "from xgboost import XGBClassifier\n",
    "from sklearn.model_selection import cross_validate\n",
    "from sklearn.model_selection import KFold\n",
    "\n",
    "seed = 123456\n",
    "np.random.seed(seed)\n",
    "#!pip install category_encoders\n",
    "#!pip install xgboost \n",
    "import xgboost as xgb"
   ]
  },
  {
   "cell_type": "code",
   "execution_count": 5,
   "metadata": {
    "colab": {
     "base_uri": "https://localhost:8080/",
     "height": 889
    },
    "colab_type": "code",
    "id": "W5PFxqBN3l1q",
    "outputId": "8d4d9884-ba23-464b-c740-cd0c9d476719"
   },
   "outputs": [],
   "source": [
    "#df = pd.read_csv(\"../input/train_features.csv\", header=0)\n",
    "\n",
    "df = pd.read_csv(\"train_features.csv\", header=0)\n",
    "df_test = pd.read_csv(\"test_features.csv\",header=0)\n",
    "df_labels = pd.read_csv(\"train_labels.csv\", header=0)\n",
    "df_labels['status_group'].value_counts()\n",
    "df = df.merge(df_labels, on='id')"
   ]
  },
  {
   "cell_type": "code",
   "execution_count": 6,
   "metadata": {},
   "outputs": [
    {
     "data": {
      "text/plain": [
       "functional                 32259\n",
       "non functional             22824\n",
       "functional needs repair     4317\n",
       "Name: status_group, dtype: int64"
      ]
     },
     "execution_count": 6,
     "metadata": {},
     "output_type": "execute_result"
    }
   ],
   "source": [
    "df.status_group.value_counts()"
   ]
  },
  {
   "cell_type": "code",
   "execution_count": 7,
   "metadata": {},
   "outputs": [],
   "source": [
    "df_slim = df[df.status_group != 'functional needs repair']"
   ]
  },
  {
   "cell_type": "code",
   "execution_count": 8,
   "metadata": {},
   "outputs": [
    {
     "data": {
      "text/plain": [
       "functional        32259\n",
       "non functional    22824\n",
       "Name: status_group, dtype: int64"
      ]
     },
     "execution_count": 8,
     "metadata": {},
     "output_type": "execute_result"
    }
   ],
   "source": [
    "df_slim.status_group.value_counts()"
   ]
  },
  {
   "cell_type": "markdown",
   "metadata": {},
   "source": [
    "## REVISIT THIS DATA. DROP NAN ROWS? 5%"
   ]
  },
  {
   "cell_type": "code",
   "execution_count": 9,
   "metadata": {},
   "outputs": [],
   "source": [
    "# Based on the most voted answer we can easily define a function that gives us a dataframe to preview the missing values and the % of missing values in each column:\n",
    "def missing_values_table(df):\n",
    "        mis_val = df.isnull().sum()\n",
    "        mis_val_percent = 100 * df.isnull().sum() / len(df)\n",
    "        mis_val_table = pd.concat([mis_val, mis_val_percent], axis=1)\n",
    "        mis_val_table_ren_columns = mis_val_table.rename(\n",
    "        columns = {0 : 'Missing Values', 1 : '% of Total Values'})\n",
    "        mis_val_table_ren_columns = mis_val_table_ren_columns[\n",
    "            mis_val_table_ren_columns.iloc[:,1] != 0].sort_values(\n",
    "        '% of Total Values', ascending=False).round(1)\n",
    "        print (\"Your selected dataframe has \" + str(df.shape[1]) + \" columns.\\n\"      \n",
    "            \"There are \" + str(mis_val_table_ren_columns.shape[0]) +\n",
    "              \" columns that have missing values.\")\n",
    "        return mis_val_table_ren_columns"
   ]
  },
  {
   "cell_type": "code",
   "execution_count": 10,
   "metadata": {},
   "outputs": [
    {
     "name": "stdout",
     "output_type": "stream",
     "text": [
      "Your selected dataframe has 41 columns.\n",
      "There are 7 columns that have missing values.\n"
     ]
    },
    {
     "data": {
      "text/html": [
       "<div>\n",
       "<style scoped>\n",
       "    .dataframe tbody tr th:only-of-type {\n",
       "        vertical-align: middle;\n",
       "    }\n",
       "\n",
       "    .dataframe tbody tr th {\n",
       "        vertical-align: top;\n",
       "    }\n",
       "\n",
       "    .dataframe thead th {\n",
       "        text-align: right;\n",
       "    }\n",
       "</style>\n",
       "<table border=\"1\" class=\"dataframe\">\n",
       "  <thead>\n",
       "    <tr style=\"text-align: right;\">\n",
       "      <th></th>\n",
       "      <th>Missing Values</th>\n",
       "      <th>% of Total Values</th>\n",
       "    </tr>\n",
       "  </thead>\n",
       "  <tbody>\n",
       "    <tr>\n",
       "      <th>scheme_name</th>\n",
       "      <td>28166</td>\n",
       "      <td>47.4</td>\n",
       "    </tr>\n",
       "    <tr>\n",
       "      <th>scheme_management</th>\n",
       "      <td>3877</td>\n",
       "      <td>6.5</td>\n",
       "    </tr>\n",
       "    <tr>\n",
       "      <th>installer</th>\n",
       "      <td>3655</td>\n",
       "      <td>6.2</td>\n",
       "    </tr>\n",
       "    <tr>\n",
       "      <th>funder</th>\n",
       "      <td>3635</td>\n",
       "      <td>6.1</td>\n",
       "    </tr>\n",
       "    <tr>\n",
       "      <th>public_meeting</th>\n",
       "      <td>3334</td>\n",
       "      <td>5.6</td>\n",
       "    </tr>\n",
       "    <tr>\n",
       "      <th>permit</th>\n",
       "      <td>3056</td>\n",
       "      <td>5.1</td>\n",
       "    </tr>\n",
       "    <tr>\n",
       "      <th>subvillage</th>\n",
       "      <td>371</td>\n",
       "      <td>0.6</td>\n",
       "    </tr>\n",
       "  </tbody>\n",
       "</table>\n",
       "</div>"
      ],
      "text/plain": [
       "                   Missing Values  % of Total Values\n",
       "scheme_name                 28166               47.4\n",
       "scheme_management            3877                6.5\n",
       "installer                    3655                6.2\n",
       "funder                       3635                6.1\n",
       "public_meeting               3334                5.6\n",
       "permit                       3056                5.1\n",
       "subvillage                    371                0.6"
      ]
     },
     "execution_count": 10,
     "metadata": {},
     "output_type": "execute_result"
    }
   ],
   "source": [
    "missing_values_table(df)"
   ]
  },
  {
   "cell_type": "code",
   "execution_count": 11,
   "metadata": {},
   "outputs": [],
   "source": [
    "# Encode my Y label and return a list of my labels. \n",
    "def labeler(dataframe, column):\n",
    "    from sklearn.preprocessing import LabelEncoder\n",
    "    dataframe =  dataframe.copy()\n",
    "    le = LabelEncoder()\n",
    "    dataframe['labels'] = le.fit_transform(dataframe[column])\n",
    "    labels = [0,1,2]\n",
    "    label_names = list(le.inverse_transform(labels))\n",
    "    label_list = [labels, label_names]\n",
    "    return dataframe['labels'], label_list\n",
    "\n",
    "\n",
    "def slimlabeler(dataframe, column):\n",
    "    from sklearn.preprocessing import LabelEncoder\n",
    "    dataframe =  dataframe.copy()\n",
    "    le = LabelEncoder()\n",
    "    dataframe['labels'] = le.fit_transform(dataframe[column])\n",
    "    labels = [0,1]\n",
    "    label_names = list(le.inverse_transform(labels))\n",
    "    label_list = [labels, label_names]\n",
    "    return dataframe['labels'], label_list\n",
    "\n",
    "\n",
    "# Turn Lat/Long into x,y,z, coord plane. \n",
    "def lat_long(dataframe):\n",
    "    from math import cos, sin \n",
    "    dataframe =  dataframe.copy()\n",
    "    dataframe['x_coord'] = dataframe.latitude.apply(lambda x: cos(x)) * dataframe.longitude.apply(lambda x: cos(x))\n",
    "    dataframe['y_coord'] = dataframe.latitude.apply(lambda x: cos(x)) * dataframe.longitude.apply(lambda x: sin(x))\n",
    "    dataframe['z_coord'] = dataframe.latitude.apply(lambda x: sin(x))\n",
    "    dataframe = dataframe.drop(columns=['latitude', 'longitude'])\n",
    "    return dataframe\n",
    "\n",
    "# Fix silly boolean issue. \n",
    "def no_bool(dataframe, columns):\n",
    "    dataframe =  dataframe.copy()\n",
    "    for column in columns:\n",
    "        dataframe[column] = dataframe[column].replace({True: 'Yes', False: 'No'})\n",
    "    return dataframe\n",
    "        "
   ]
  },
  {
   "cell_type": "code",
   "execution_count": 12,
   "metadata": {},
   "outputs": [],
   "source": [
    "## This portion was tedious. I first looked at the .nunique counts for all of these then compared the value counts of each pair to select the features.\n",
    "## Feature\tvalue_count()\n",
    "\n",
    "# DROP status_group\t3 : \n",
    "# DROP id\t59400: because duh. \n",
    "# DROP recorded_by\t1 : Only one source. \n",
    "\n",
    "# KEEP public_meeting\t2 : Boolean to object. \n",
    "# KEEP permit\t2: Boolean to object.  \n",
    "\n",
    "# KEEP source_class\t3 \n",
    "# KEEP source\t10: These two are sufficiently different. \n",
    "# DROP source_type\t7 : This one is source but with less detail. Not ordered. \n",
    "\n",
    "# DROP quantity_group\t5 : These two are exactly the same. Drop either. \n",
    "# KEEP  quantity\t5 : enough, insufficient, dry, seasonal, unknown  - possibly cat/ordinal\n",
    "\n",
    "# KEEP management\t12 : Most detailed, not ordered. \n",
    "# DROP management_group\t5 : less-detailed, summary-grouping. Not ordered.\n",
    "# DROP scheme_management\t12 : Missing Values, similar info to management. \n",
    "\n",
    "# DROP payment\t7\n",
    "# KEEP payment_type\t7 : Shorter Column headers. Identical otherwise.\n",
    "\n",
    "# KEEP water_quality\t8\n",
    "# DROP quality_group\t6\n",
    "\n",
    "# DROP waterpoint_type_group\t6\n",
    "# KEEP waterpoint_type\t7\n",
    "\n",
    "# DROP extraction_type_class\t7\n",
    "# DROP extraction_type_group\t13\n",
    "# KEEP extraction_type\t18\n",
    "\n",
    "\n",
    "### GEOGRAPHY \n",
    "# DROP longitude\t57516: Replace with X,Y,Z coordinates\n",
    "# DROP latitude\t57517\n",
    "\n",
    "# KEEP basin\t9 - Non-Regional boarder may overlap with some other indicators of location. \n",
    "\n",
    "# DROP region\t21 \n",
    "# KEEP region_code\t27: Region Code contains more detail than Region. \n",
    "\n",
    "# DROP district_code\t20\n",
    "# KEEP lga\t125 : Lga is district with urban/rural flag added in on some values. Lga is most detailed.\n",
    "\n",
    "# ward\t2092\n",
    "# gps_height\t2428\n",
    "# subvillage\t19287\n",
    "# wpt_name\t37400\n",
    "\n",
    "\n",
    "### OTHER\n",
    "# construction_year\t55\n",
    "# num_private\t65\n",
    "# amount_tsh\t98\n",
    "# date_recorded\t356\n",
    "# population\t1049\n",
    "\n",
    "\n",
    "### High Cardinality\n",
    "# funder\t1897\n",
    "# installer\t2145\n",
    "# PDROP  scheme_name\t2696 - High cardinality, low \n",
    "\n"
   ]
  },
  {
   "cell_type": "code",
   "execution_count": 102,
   "metadata": {},
   "outputs": [
    {
     "name": "stdout",
     "output_type": "stream",
     "text": [
      "['basin', 'ward', 'public_meeting', 'scheme_management', 'permit', 'extraction_type', 'management', 'payment', 'payment_type', 'water_quality', 'quantity', 'quantity_group', 'source', 'source_type', 'source_class', 'waterpoint_type']\n",
      "['region_code', 'installer', 'scheme_name', 'lga', 'subvillage', 'basin', 'ward', 'public_meeting', 'scheme_management', 'permit', 'extraction_type', 'management', 'payment', 'payment_type', 'water_quality', 'quantity', 'quantity_group', 'source', 'source_type', 'source_class', 'waterpoint_type']\n"
     ]
    }
   ],
   "source": [
    "# Fix or Enhance Features\n",
    "data = df\n",
    "data = lat_long(data)\n",
    "data = no_bool(data, ['permit', 'public_meeting'])\n",
    "\n",
    "# Define those datasets\n",
    "X = data\n",
    "y, label_list = labeler(df, 'status_group')\n",
    "y.head()\n",
    "\n",
    "# feature thoughts\n",
    "nope = ['recorded_by','construction_year', 'payment_type', 'quantity_group','source_type']\n",
    "good = ['permit']\n",
    "first = ['extraction_type','management', 'payment','water_quality', 'quantity','source', 'source_class','waterpoint_type']\n",
    "second = ['extraction_type_group','management_group','quality_group','waterpoint_type_group']\n",
    "third = ['extraction_type_class']\n",
    "\n",
    "# Passthrough features. These are any I don't want to mess with. \n",
    "passthrough_features = []\n",
    "\n",
    "#Testing\n",
    "to_be_tested = ['subvillage']\n",
    "to_be_tested_remove = ['construction_year', 'payment_type', 'quantity_group']\n",
    "test_remove = second + third\n",
    "test_add_oh = []\n",
    "test_add_binary = []\n",
    "test_add_numeric = []\n",
    "\n",
    "# Ones that aren't actually numeric.\n",
    "binary_features = ['region_code','installer','scheme_name','date_recorded','lga','subvillage','wpt_name']\n",
    "hashing_features = []\n",
    "\n",
    "# Dropping features\n",
    "drop_features_tune = ['id', 'status_group','recorded_by',\"region\",'funder','district_code',]\n",
    "drop_features_testing = ['wpt_name','date_recorded']\n",
    "drop_features = drop_features_tune + test_remove + drop_features_testing\n",
    "\n",
    "# my need to convert region_code to \n",
    "\n",
    "# Ones to binary encode (high cardinality)\n",
    "#binary_features = ['funder','installer','scheme_name', 'subvillage','region_code', 'district_code']\n",
    "\n",
    "# Defining my one-hot variables. \n",
    "one_hot_features = list(X.select_dtypes(include=['object']))\n",
    "numeric_features = list(X.select_dtypes(include=['float64', 'int64']))\n",
    "\n",
    "# Remove features from duplicates if present. \n",
    "for x in drop_features:\n",
    "    if x in one_hot_features: one_hot_features.remove(x)\n",
    "    if x in numeric_features: numeric_features.remove(x)\n",
    "    if x in binary_features: binary_features.remove(x)\n",
    "    if x in hashing_features: hashing_features.remove(x)\n",
    "\n",
    "for x in binary_features:\n",
    "    if x in one_hot_features: one_hot_features.remove(x)\n",
    "    if x in numeric_features: numeric_features.remove(x)\n",
    "        \n",
    "for x in hashing_features: \n",
    "    if x in one_hot_features: one_hot_features.remove(x)\n",
    "    if x in numeric_features: numeric_features.remove(x)\n",
    "\n",
    "binary_features = binary_features + one_hot_features\n",
    "# List features\n",
    "#print (numeric_features)\n",
    "#print (drop_features)\n",
    "print (one_hot_features)\n",
    "print (binary_features)\n",
    "the_selected_features = passthrough_features + one_hot_features + numeric_features + binary_features + hashing_features"
   ]
  },
  {
   "cell_type": "code",
   "execution_count": 48,
   "metadata": {
    "colab": {},
    "colab_type": "code",
    "id": "AQGZUUjl3jw6"
   },
   "outputs": [],
   "source": [
    "# Preprocess Pipeline\n",
    "numeric_transformer = Pipeline(steps=[\n",
    "    ('imputer', SimpleImputer(strategy='median')),\n",
    "    ('scaler', MinMaxScaler())])\n",
    "\n",
    "one_hot_transformer = Pipeline(steps=[\n",
    "    ('imputer', SimpleImputer(strategy='constant', fill_value='missing')),\n",
    "    ('onehot', OneHotEncoder(handle_unknown='ignore'))])\n",
    "\n",
    "binary_transformer = Pipeline(steps=[\n",
    "    ('imputer', SimpleImputer(strategy='constant', fill_value='missing')),\n",
    "    ('binary', BinaryEncoder(drop_invariant=True,return_df=True))])\n",
    "\n",
    "hashing_transformer = Pipeline(steps=[\n",
    "    ('imputer', SimpleImputer(strategy='constant', fill_value='missing')),\n",
    "    ('hashing', HashingEncoder())])\n",
    "\n",
    "# Create preprocessor pipeline\n",
    "PreProcessor = ColumnTransformer(\n",
    "    transformers=[\n",
    "        ('drop', 'drop', drop_features),\n",
    "        ('biy', binary_transformer, binary_features),\n",
    "        ('num', numeric_transformer, numeric_features)\n",
    "        ('o-h', one_hot_transformer, one_hot_features)\n",
    "    ],\n",
    "    n_jobs = -2)\n",
    "\n",
    "# Lets test it."
   ]
  },
  {
   "cell_type": "code",
   "execution_count": 85,
   "metadata": {},
   "outputs": [
    {
     "name": "stdout",
     "output_type": "stream",
     "text": [
      "(53460, 42) (53460,)\n"
     ]
    },
    {
     "data": {
      "text/plain": [
       "(53460, 25358)"
      ]
     },
     "execution_count": 85,
     "metadata": {},
     "output_type": "execute_result"
    }
   ],
   "source": [
    "# Test Train Split\n",
    "X_train, X_val, y_train, y_val = train_test_split(X, y, test_size=0.1, random_state = seed)\n",
    "print(X_train.shape, y_train.shape)\n",
    "PreProcessor.fit_transform(X_train, y_train).shape"
   ]
  },
  {
   "cell_type": "code",
   "execution_count": 86,
   "metadata": {},
   "outputs": [
    {
     "data": {
      "text/plain": [
       "['id',\n",
       " 'status_group',\n",
       " 'recorded_by',\n",
       " 'region',\n",
       " 'funder',\n",
       " 'district_code',\n",
       " 'extraction_type_group',\n",
       " 'management_group',\n",
       " 'quality_group',\n",
       " 'waterpoint_type_group',\n",
       " 'extraction_type_class',\n",
       " 'wpt_name',\n",
       " 'date_recorded',\n",
       " 'amount_tsh',\n",
       " 'gps_height',\n",
       " 'num_private',\n",
       " 'population',\n",
       " 'construction_year',\n",
       " 'x_coord',\n",
       " 'y_coord',\n",
       " 'z_coord']"
      ]
     },
     "execution_count": 86,
     "metadata": {},
     "output_type": "execute_result"
    }
   ],
   "source": [
    "def get_column_names_(column_transformer):    \n",
    "    col_name = []\n",
    "    for transformer_in_columns in column_transformer.transformers_[:-1]:#the last transformer is ColumnTransformer's 'remainder'\n",
    "        raw_col_name = transformer_in_columns[2]\n",
    "        if isinstance(transformer_in_columns[1],Pipeline): \n",
    "            transformer = transformer_in_columns[1].steps[-1][1]\n",
    "        else:\n",
    "            transformer = transformer_in_columns[1]\n",
    "        try:\n",
    "            names = transformer.get_feature_names()\n",
    "        except AttributeError: # if no 'get_feature_names' function, use raw column name\n",
    "            names = raw_col_name\n",
    "        if isinstance(names,np.ndarray): # eg.\n",
    "            col_name += names.tolist()\n",
    "        elif isinstance(names,list):\n",
    "            col_name += names    \n",
    "        elif isinstance(names,str):\n",
    "            col_name.append(names)\n",
    "    return col_name\n",
    "\n",
    "get_column_names_(PreProcessor)"
   ]
  },
  {
   "cell_type": "markdown",
   "metadata": {},
   "source": [
    "## Feature Baseline"
   ]
  },
  {
   "cell_type": "code",
   "execution_count": 60,
   "metadata": {},
   "outputs": [
    {
     "name": "stdout",
     "output_type": "stream",
     "text": [
      "model score: 0.897131\n",
      "model score: 0.805581\n"
     ]
    }
   ],
   "source": [
    "# Standard Scaler \n",
    "clf3 = make_pipeline(PreProcessor, XGBClassifier(silent=True, \n",
    "                      scale_pos_weight=1,\n",
    "                      learning_rate=0.02,  \n",
    "                      colsample_bytree = 0.3,\n",
    "                      subsample = 0.8,\n",
    "                      objective='binary:logistic', \n",
    "                      n_estimators=100, \n",
    "                      reg_alpha = 0.4,\n",
    "                      max_depth=17, \n",
    "                      gamma=1,\n",
    "                      nthread = 10))\n",
    "\n",
    "clf3.fit(X_train, y_train)\n",
    "print(\"model score: %.6f\" % clf3.score(X_train, y_train))\n",
    "print(\"model score: %.6f\" % clf3.score(X_val, y_val))"
   ]
  },
  {
   "cell_type": "code",
   "execution_count": 51,
   "metadata": {},
   "outputs": [
    {
     "name": "stdout",
     "output_type": "stream",
     "text": [
      "model score: 0.891863\n",
      "model score: 0.816667\n"
     ]
    }
   ],
   "source": [
    "# MinMax Scaler\n",
    "clf3 = make_pipeline(PreProcessor, XGBClassifier(silent=True, \n",
    "                      scale_pos_weight=1,\n",
    "                      learning_rate=0.02,  \n",
    "                      colsample_bytree = 0.3,\n",
    "                      subsample = 0.8,\n",
    "                      objective='binary:logistic', \n",
    "                      n_estimators=100, \n",
    "                      reg_alpha = 0.4,\n",
    "                      max_depth=17, \n",
    "                      gamma=1,\n",
    "                      nthread = 10))\n",
    "\n",
    "clf3.fit(X_train, y_train)\n",
    "print(\"model score: %.6f\" % clf3.score(X_train, y_train))\n",
    "print(\"model score: %.6f\" % clf3.score(X_val, y_val))"
   ]
  },
  {
   "cell_type": "markdown",
   "metadata": {},
   "source": [
    "## Now for an attempt at a deep learning classifier for it. "
   ]
  },
  {
   "cell_type": "code",
   "execution_count": 94,
   "metadata": {},
   "outputs": [
    {
     "name": "stdout",
     "output_type": "stream",
     "text": [
      "(39798, 42) (39798,)\n"
     ]
    },
    {
     "data": {
      "text/plain": [
       "(39798, 22229)"
      ]
     },
     "execution_count": 94,
     "metadata": {},
     "output_type": "execute_result"
    }
   ],
   "source": [
    "# Need pd-dummies-friendly y value. \n",
    "\n",
    "y2 = df['status_group']\n",
    "\n",
    "# Test Train Split\n",
    "X_train, X_val, y_train, y_val = train_test_split(X, y2, test_size=0.33, random_state = seed)\n",
    "print(X_train.shape, y_train.shape)\n",
    "PreProcessor.fit_transform(X_train, y_train).shape"
   ]
  },
  {
   "cell_type": "code",
   "execution_count": 106,
   "metadata": {},
   "outputs": [
    {
     "data": {
      "text/plain": [
       "<39798x22229 sparse matrix of type '<class 'numpy.float64'>'\n",
       "\twith 1058766 stored elements in Compressed Sparse Row format>"
      ]
     },
     "execution_count": 106,
     "metadata": {},
     "output_type": "execute_result"
    }
   ],
   "source": [
    "# DL  Preprocess Pipeline\n",
    "numeric_transformer = Pipeline(steps=[\n",
    "    ('imputer', SimpleImputer(strategy='median')),\n",
    "    ('scaler', MinMaxScaler())])\n",
    "\n",
    "one_hot_transformer = Pipeline(steps=[\n",
    "    ('imputer', SimpleImputer(strategy='constant', fill_value='missing')),\n",
    "    ('onehot', OneHotEncoder(handle_unknown='ignore'))])\n",
    "\n",
    "# Create preprocessor pipeline\n",
    "PreProcessor = ColumnTransformer(\n",
    "    transformers=[\n",
    "        ('drop', 'drop', drop_features),\n",
    "        #('biy', binary_transformer, binary_features),\n",
    "        ('num', numeric_transformer, numeric_features),\n",
    "        ('o-h', one_hot_transformer, binary_features)\n",
    "    ],\n",
    "    n_jobs = -2)\n",
    "\n",
    "# Lets test it.\n",
    "X_ann = PreProcessor.fit_transform(X_train)\n",
    "X_ann.T"
   ]
  },
  {
   "cell_type": "code",
   "execution_count": 107,
   "metadata": {},
   "outputs": [],
   "source": [
    "# Some Keras magic\n",
    "from keras.models import Sequential\n",
    "from keras.callbacks import EarlyStopping, ModelCheckpoint\n",
    "from keras.layers import Dense, Activation, Dropout\n",
    "from keras import optimizers"
   ]
  },
  {
   "cell_type": "markdown",
   "metadata": {},
   "source": [
    "### Set up a thee layer deep and 128 wide net. \n",
    "\n",
    "Nothing fancy, not even sure this would qualify as deep learning – but throw in some dropout between them to help it to not overfit.\n",
    "\n",
    "Learning rate for the optimization method Adam might be something to tune on other datasets but here 0.001 seems to work nicely."
   ]
  },
  {
   "cell_type": "code",
   "execution_count": 108,
   "metadata": {},
   "outputs": [],
   "source": [
    "m = Sequential()\n",
    "m.add(Dense(128, activation='relu', input_shape=(X.shape[1],)))\n",
    "m.add(Dropout(0.5))\n",
    "m.add(Dense(128, activation='relu'))\n",
    "m.add(Dropout(0.5))\n",
    "m.add(Dense(128, activation='relu'))\n",
    "m.add(Dropout(0.5))\n",
    "m.add(Dense(len(np.unique(y)), activation='softmax'))\n",
    "\n",
    "m.compile(\n",
    "    optimizer=optimizers.Adam(lr=0.001),\n",
    "    loss='categorical_crossentropy',\n",
    "    metrics=['accuracy']\n",
    ")"
   ]
  },
  {
   "cell_type": "code",
   "execution_count": 111,
   "metadata": {},
   "outputs": [
    {
     "name": "stderr",
     "output_type": "stream",
     "text": [
      "/home/britton/.conda/envs/basicNLP/lib/python3.6/site-packages/ipykernel_launcher.py:5: FutureWarning: Method .as_matrix will be removed in a future version. Use .values instead.\n",
      "  \"\"\"\n"
     ]
    },
    {
     "ename": "ValueError",
     "evalue": "Error when checking input: expected dense_25_input to have shape (42,) but got array with shape (39798,)",
     "output_type": "error",
     "traceback": [
      "\u001b[0;31m---------------------------------------------------------------------------\u001b[0m",
      "\u001b[0;31mValueError\u001b[0m                                Traceback (most recent call last)",
      "\u001b[0;32m<ipython-input-111-bdc62012fd6b>\u001b[0m in \u001b[0;36m<module>\u001b[0;34m\u001b[0m\n\u001b[1;32m     19\u001b[0m     \u001b[0mverbose\u001b[0m\u001b[0;34m=\u001b[0m\u001b[0;36m2\u001b[0m\u001b[0;34m,\u001b[0m\u001b[0;34m\u001b[0m\u001b[0;34m\u001b[0m\u001b[0m\n\u001b[1;32m     20\u001b[0m     \u001b[0mvalidation_split\u001b[0m\u001b[0;34m=\u001b[0m\u001b[0;36m0.1\u001b[0m\u001b[0;34m,\u001b[0m\u001b[0;34m\u001b[0m\u001b[0;34m\u001b[0m\u001b[0m\n\u001b[0;32m---> 21\u001b[0;31m     \u001b[0mbatch_size\u001b[0m\u001b[0;34m=\u001b[0m\u001b[0;36m256\u001b[0m\u001b[0;34m,\u001b[0m\u001b[0;34m\u001b[0m\u001b[0;34m\u001b[0m\u001b[0m\n\u001b[0m\u001b[1;32m     22\u001b[0m )\n",
      "\u001b[0;32m~/.conda/envs/basicNLP/lib/python3.6/site-packages/keras/engine/training.py\u001b[0m in \u001b[0;36mfit\u001b[0;34m(self, x, y, batch_size, epochs, verbose, callbacks, validation_split, validation_data, shuffle, class_weight, sample_weight, initial_epoch, steps_per_epoch, validation_steps, **kwargs)\u001b[0m\n\u001b[1;32m    950\u001b[0m             \u001b[0msample_weight\u001b[0m\u001b[0;34m=\u001b[0m\u001b[0msample_weight\u001b[0m\u001b[0;34m,\u001b[0m\u001b[0;34m\u001b[0m\u001b[0;34m\u001b[0m\u001b[0m\n\u001b[1;32m    951\u001b[0m             \u001b[0mclass_weight\u001b[0m\u001b[0;34m=\u001b[0m\u001b[0mclass_weight\u001b[0m\u001b[0;34m,\u001b[0m\u001b[0;34m\u001b[0m\u001b[0;34m\u001b[0m\u001b[0m\n\u001b[0;32m--> 952\u001b[0;31m             batch_size=batch_size)\n\u001b[0m\u001b[1;32m    953\u001b[0m         \u001b[0;31m# Prepare validation data.\u001b[0m\u001b[0;34m\u001b[0m\u001b[0;34m\u001b[0m\u001b[0;34m\u001b[0m\u001b[0m\n\u001b[1;32m    954\u001b[0m         \u001b[0mdo_validation\u001b[0m \u001b[0;34m=\u001b[0m \u001b[0;32mFalse\u001b[0m\u001b[0;34m\u001b[0m\u001b[0;34m\u001b[0m\u001b[0m\n",
      "\u001b[0;32m~/.conda/envs/basicNLP/lib/python3.6/site-packages/keras/engine/training.py\u001b[0m in \u001b[0;36m_standardize_user_data\u001b[0;34m(self, x, y, sample_weight, class_weight, check_array_lengths, batch_size)\u001b[0m\n\u001b[1;32m    749\u001b[0m             \u001b[0mfeed_input_shapes\u001b[0m\u001b[0;34m,\u001b[0m\u001b[0;34m\u001b[0m\u001b[0;34m\u001b[0m\u001b[0m\n\u001b[1;32m    750\u001b[0m             \u001b[0mcheck_batch_axis\u001b[0m\u001b[0;34m=\u001b[0m\u001b[0;32mFalse\u001b[0m\u001b[0;34m,\u001b[0m  \u001b[0;31m# Don't enforce the batch size.\u001b[0m\u001b[0;34m\u001b[0m\u001b[0;34m\u001b[0m\u001b[0m\n\u001b[0;32m--> 751\u001b[0;31m             exception_prefix='input')\n\u001b[0m\u001b[1;32m    752\u001b[0m \u001b[0;34m\u001b[0m\u001b[0m\n\u001b[1;32m    753\u001b[0m         \u001b[0;32mif\u001b[0m \u001b[0my\u001b[0m \u001b[0;32mis\u001b[0m \u001b[0;32mnot\u001b[0m \u001b[0;32mNone\u001b[0m\u001b[0;34m:\u001b[0m\u001b[0;34m\u001b[0m\u001b[0;34m\u001b[0m\u001b[0m\n",
      "\u001b[0;32m~/.conda/envs/basicNLP/lib/python3.6/site-packages/keras/engine/training_utils.py\u001b[0m in \u001b[0;36mstandardize_input_data\u001b[0;34m(data, names, shapes, check_batch_axis, exception_prefix)\u001b[0m\n\u001b[1;32m    136\u001b[0m                             \u001b[0;34m': expected '\u001b[0m \u001b[0;34m+\u001b[0m \u001b[0mnames\u001b[0m\u001b[0;34m[\u001b[0m\u001b[0mi\u001b[0m\u001b[0;34m]\u001b[0m \u001b[0;34m+\u001b[0m \u001b[0;34m' to have shape '\u001b[0m \u001b[0;34m+\u001b[0m\u001b[0;34m\u001b[0m\u001b[0;34m\u001b[0m\u001b[0m\n\u001b[1;32m    137\u001b[0m                             \u001b[0mstr\u001b[0m\u001b[0;34m(\u001b[0m\u001b[0mshape\u001b[0m\u001b[0;34m)\u001b[0m \u001b[0;34m+\u001b[0m \u001b[0;34m' but got array with shape '\u001b[0m \u001b[0;34m+\u001b[0m\u001b[0;34m\u001b[0m\u001b[0;34m\u001b[0m\u001b[0m\n\u001b[0;32m--> 138\u001b[0;31m                             str(data_shape))\n\u001b[0m\u001b[1;32m    139\u001b[0m     \u001b[0;32mreturn\u001b[0m \u001b[0mdata\u001b[0m\u001b[0;34m\u001b[0m\u001b[0;34m\u001b[0m\u001b[0m\n\u001b[1;32m    140\u001b[0m \u001b[0;34m\u001b[0m\u001b[0m\n",
      "\u001b[0;31mValueError\u001b[0m: Error when checking input: expected dense_25_input to have shape (42,) but got array with shape (39798,)"
     ]
    }
   ],
   "source": [
    "m.fit(\n",
    "    # Feature matrix\n",
    "    X_ann.T,\n",
    "    # Target class one-hot-encoded\n",
    "    pd.get_dummies(pd.DataFrame(y_train)).as_matrix().T,\n",
    "    # Iterations to be run if not stopped by EarlyStopping\n",
    "    epochs=200,\n",
    "    callbacks=[\n",
    "        # Stop iterations when validation loss has not improved\n",
    "        EarlyStopping(monitor='val_loss', patience=25),\n",
    "        # Nice for keeping the last model before overfitting occurs\n",
    "        ModelCheckpoint(\n",
    "            'best.model',\n",
    "            monitor='val_loss',\n",
    "            save_best_only=True,\n",
    "            verbose=1\n",
    "        )\n",
    "    ],\n",
    "    verbose=2,\n",
    "    validation_split=0.1,\n",
    "    batch_size=256,\n",
    ")"
   ]
  },
  {
   "cell_type": "code",
   "execution_count": null,
   "metadata": {},
   "outputs": [],
   "source": [
    "# Load the best model\n",
    "m.load_weights(\"best.model\")\n",
    "\n",
    "# Keep track of what class corresponds to what index\n",
    "mapping = (\n",
    "    pd.get_dummies(pd.DataFrame(y_train), columns=[0], prefix='', prefix_sep='')\n",
    "    .columns.astype(int).values\n",
    ")\n",
    "y_test_preds = [mapping[pred] for pred in m.predict(X_test).argmax(axis=1)]"
   ]
  },
  {
   "cell_type": "code",
   "execution_count": null,
   "metadata": {},
   "outputs": [],
   "source": [
    "pd.crosstab(\n",
    "    pd.Series(y_test, name='Actual'),\n",
    "    pd.Series(y_test_preds, name='Predicted'),\n",
    "    margins=True\n",
    ")"
   ]
  },
  {
   "cell_type": "code",
   "execution_count": null,
   "metadata": {},
   "outputs": [],
   "source": [
    "print 'Accuracy: {0:.3f}'.format(accuracy_score(y_test, y_test_preds))"
   ]
  },
  {
   "cell_type": "markdown",
   "metadata": {},
   "source": [
    "## Pre-process the test data, make predictions, and format submission"
   ]
  },
  {
   "cell_type": "code",
   "execution_count": 113,
   "metadata": {},
   "outputs": [
    {
     "data": {
      "text/plain": [
       "Pipeline(memory=None,\n",
       "     steps=[('columntransformer', ColumnTransformer(n_jobs=-2, remainder='drop', sparse_threshold=0.3,\n",
       "         transformer_weights=None,\n",
       "         transformers=[('drop', 'drop', ['id', 'status_group', 'recorded_by', 'region', 'funder', 'district_code', 'extraction_type_group', 'management_group', 'qualit...    reg_alpha=0.4, reg_lambda=1, scale_pos_weight=1, seed=None,\n",
       "       silent=True, subsample=0.8))])"
      ]
     },
     "execution_count": 113,
     "metadata": {},
     "output_type": "execute_result"
    }
   ],
   "source": [
    "clf1 = make_pipeline(PreProcessor, XGBClassifier(silent=True, \n",
    "                      scale_pos_weight=1,\n",
    "                      learning_rate=0.02,  \n",
    "                      colsample_bytree = 0.3,\n",
    "                      subsample = 0.8,\n",
    "                      objective='binary:logistic', \n",
    "                      n_estimators=100, \n",
    "                      reg_alpha = 0.4,\n",
    "                      max_depth=17, \n",
    "                      gamma=1,\n",
    "                      nthread = 10))\n",
    "\n",
    "clf1.fit(X, y)"
   ]
  },
  {
   "cell_type": "code",
   "execution_count": 114,
   "metadata": {},
   "outputs": [
    {
     "name": "stdout",
     "output_type": "stream",
     "text": [
      "(14358, 40)\n",
      "(14358, 42)\n"
     ]
    }
   ],
   "source": [
    "print(df_test.shape)\n",
    "test_data = lat_long(df_test)\n",
    "test_data['status_group'] = df_test.id\n",
    "test_data = no_bool(test_data, ['permit', 'public_meeting'])\n",
    "#test_data = PreProcessor.fit_transform(test_data)\n",
    "print(test_data.shape)"
   ]
  },
  {
   "cell_type": "code",
   "execution_count": 115,
   "metadata": {
    "scrolled": true
   },
   "outputs": [],
   "source": [
    "#Make predictions using the features from the test data set\n",
    "predictions = clf1.predict(test_data)\n",
    "\n",
    "#Display our predictions - they are either 0 or 1 for each training instance \n",
    "#depending on whether our algorithm believes the person survived or not.\n",
    "predictions\n",
    "\n",
    "# Map our labels back onto the predictions\n",
    "keys = label_list[0]\n",
    "values = label_list[1]\n",
    "status_labels = dict(zip(keys, values))\n",
    "predictions_mapped = np.vectorize(status_labels.get)(predictions)"
   ]
  },
  {
   "cell_type": "code",
   "execution_count": 116,
   "metadata": {},
   "outputs": [
    {
     "name": "stdout",
     "output_type": "stream",
     "text": [
      "(14358, 40)\n",
      "(14358, 2)\n"
     ]
    },
    {
     "data": {
      "text/html": [
       "<div>\n",
       "<style scoped>\n",
       "    .dataframe tbody tr th:only-of-type {\n",
       "        vertical-align: middle;\n",
       "    }\n",
       "\n",
       "    .dataframe tbody tr th {\n",
       "        vertical-align: top;\n",
       "    }\n",
       "\n",
       "    .dataframe thead th {\n",
       "        text-align: right;\n",
       "    }\n",
       "</style>\n",
       "<table border=\"1\" class=\"dataframe\">\n",
       "  <thead>\n",
       "    <tr style=\"text-align: right;\">\n",
       "      <th></th>\n",
       "      <th>id</th>\n",
       "      <th>status_group</th>\n",
       "    </tr>\n",
       "  </thead>\n",
       "  <tbody>\n",
       "    <tr>\n",
       "      <th>0</th>\n",
       "      <td>50785</td>\n",
       "      <td>functional</td>\n",
       "    </tr>\n",
       "    <tr>\n",
       "      <th>1</th>\n",
       "      <td>51630</td>\n",
       "      <td>functional</td>\n",
       "    </tr>\n",
       "    <tr>\n",
       "      <th>2</th>\n",
       "      <td>17168</td>\n",
       "      <td>functional</td>\n",
       "    </tr>\n",
       "    <tr>\n",
       "      <th>3</th>\n",
       "      <td>45559</td>\n",
       "      <td>non functional</td>\n",
       "    </tr>\n",
       "    <tr>\n",
       "      <th>4</th>\n",
       "      <td>49871</td>\n",
       "      <td>functional</td>\n",
       "    </tr>\n",
       "  </tbody>\n",
       "</table>\n",
       "</div>"
      ],
      "text/plain": [
       "      id    status_group\n",
       "0  50785      functional\n",
       "1  51630      functional\n",
       "2  17168      functional\n",
       "3  45559  non functional\n",
       "4  49871      functional"
      ]
     },
     "execution_count": 116,
     "metadata": {},
     "output_type": "execute_result"
    }
   ],
   "source": [
    "#Create a  DataFrame with the passengers ids and our prediction regarding whether they survived or not\n",
    "submission = pd.DataFrame({'id':df_test['id'],'status_group':predictions_mapped})\n",
    "\n",
    "# make sure the shapes line up. \n",
    "print (df_test.shape)\n",
    "print (submission.shape)\n",
    "\n",
    "#Visualize the first 5 rows\n",
    "submission.head()"
   ]
  },
  {
   "cell_type": "code",
   "execution_count": 111,
   "metadata": {},
   "outputs": [
    {
     "name": "stdout",
     "output_type": "stream",
     "text": [
      "Saved file: submission.csv\n"
     ]
    }
   ],
   "source": [
    "#Convert DataFrame to a csv file that can be uploaded\n",
    "#This is saved in the same directory as your notebook\n",
    "filename = 'submission.csv'\n",
    "submission.to_csv(filename,index=False)\n",
    "print('Saved file: ' + filename)"
   ]
  },
  {
   "cell_type": "markdown",
   "metadata": {},
   "source": [
    "# MISC Ref Material"
   ]
  },
  {
   "cell_type": "code",
   "execution_count": null,
   "metadata": {},
   "outputs": [],
   "source": [
    "def get_column_names_from_ColumnTransformer(column_transformer):    \n",
    "    col_name = []\n",
    "    for transformer_in_columns in column_transformer.transformers_[:-1]:#the last transformer is ColumnTransformer's 'remainder'\n",
    "        raw_col_name = transformer_in_columns[2]\n",
    "        if isinstance(transformer_in_columns[1],Pipeline): \n",
    "            transformer = transformer_in_columns[1].steps[-1][1]\n",
    "        else:\n",
    "            transformer = transformer_in_columns[1]\n",
    "        try:\n",
    "            names = transformer.get_feature_names()\n",
    "        except AttributeError: # if no 'get_feature_names' function, use raw column name\n",
    "            names = raw_col_name\n",
    "        if isinstance(names,np.ndarray): # eg.\n",
    "            col_name += names.tolist()\n",
    "        elif isinstance(names,list):\n",
    "            col_name += names    \n",
    "        elif isinstance(names,str):\n",
    "            col_name.append(names)\n",
    "    return col_name\n",
    "\n",
    "get_column_names_from_ColumnTransformer(PreProcessor)"
   ]
  },
  {
   "cell_type": "code",
   "execution_count": null,
   "metadata": {
    "colab": {},
    "colab_type": "code",
    "id": "TlZG8ps43l_M"
   },
   "outputs": [],
   "source": [
    "# Rewriting my Dummy Regression Baseline one as a function\n",
    "def baseline(data):\n",
    "    name = \"Dummy Regression Baseline\"\n",
    "    # Split data into train and test\n",
    "    X_train, X_test, y_train, y_test = split(data)\n",
    "\n",
    "    # Define an estimator and param_grid\n",
    "    # WHEN DEFINING YOU CAN GIVE IT A NAME OTHERWISE IT WILL USE THE PIPELINE NAME AUTOGEN NAME (name of the function but lowercase)\n",
    "    pipe = make_pipeline(\n",
    "        PreProcesser(), \n",
    "        DummyRegressor(strategy='mean'))\n",
    "    pipe.fit(X_train, y_train)\n",
    "\n",
    "    scorer = 'MAE'\n",
    "\n",
    "    ### Get the scores with the MAE Function\n",
    "    y_pred_train = pipe.predict(X_train)  \n",
    "    y_pred_test = pipe.predict(X_test)\n",
    "\n",
    "    train_score = mean_absolute_error(y_train, y_pred_train)\n",
    "    test_score = mean_absolute_error(y_test, y_pred_test)\n",
    "    score_variance = test_score - train_score\n",
    "    cv_score = 0.0000000000000\n",
    "    best_params = pipe.get_params\n",
    "    best_estimator = \"\"\n",
    "    selected_names = list(X_train.columns)\n",
    "    unselected_names = []\n",
    "\n",
    "    return [name, scorer, train_score, test_score, score_variance, cv_score, selected_names, unselected_names, best_params, best_estimator]\n",
    "\n",
    "\n",
    "# Rewriting my GridSearch CV as a function \n",
    "def compare(data, name):\n",
    "    X_train, X_test, y_train, y_test = split(data)\n",
    "\n",
    "    pipe = make_pipeline(\n",
    "        PreProcessor, \n",
    "        SelectKBest(f_regression), \n",
    "        Ridge())\n",
    "\n",
    "    param_grid = {\n",
    "        'selectkbest__k': range(1, len(X_train.columns)+1), \n",
    "        'ridge__alpha': [0.1, 1.0, 10.]\n",
    "    }\n",
    "\n",
    "    scorer = 'MAE'\n",
    "\n",
    "    # Fit on the train set, with grid search cross-validation\n",
    "    gs = GridSearchCV(pipe, param_grid=param_grid, cv=3, \n",
    "                      scoring='neg_mean_absolute_error', \n",
    "                      verbose=0)\n",
    "    gs.fit(X_train, y_train)\n",
    "\n",
    "    train_score = -gs.score(X_train, y_train)\n",
    "    test_score = -gs.score(X_test, y_test)\n",
    "    score_variance = test_score - train_score\n",
    "    cv_score = -gs.best_score_\n",
    "    best_params = gs.best_params_\n",
    "    best_estimator = gs.best_estimator_\n",
    "\n",
    "    # selected features? \n",
    "    # 'selectkbest' is the autogenerated name of the SelectKBest() function in the pipeline\n",
    "    selector = gs.best_estimator_.named_steps['selectkbest']\n",
    "    all_names = X_train.columns\n",
    "\n",
    "    # get_support returns a mask of the columns in True / False\n",
    "    selected_mask = selector.get_support()\n",
    "    # Passing the boolean list as the column names creates a masked list.  \n",
    "    selected_names = list(all_names[selected_mask])\n",
    "    unselected_names = list(all_names[~selected_mask])\n",
    "\n",
    "    return [name, scorer, train_score, test_score, score_variance, cv_score, selected_names, unselected_names, best_params, best_estimator]"
   ]
  },
  {
   "cell_type": "code",
   "execution_count": null,
   "metadata": {},
   "outputs": [],
   "source": [
    "#pd.DataFrame({'Variable':X.columns,\n",
    "#              'Importance':clf2.named_steps['xgbclassifier'].feature_importances_}).sort_values('Importance', ascending=False)\n",
    "#pipe.steps[0][1].get_feature_names()"
   ]
  }
 ],
 "metadata": {
  "colab": {
   "collapsed_sections": [],
   "name": "Untitled13.ipynb",
   "provenance": [],
   "version": "0.3.2"
  },
  "kernelspec": {
   "display_name": "Python 3",
   "language": "python",
   "name": "python3"
  },
  "language_info": {
   "codemirror_mode": {
    "name": "ipython",
    "version": 3
   },
   "file_extension": ".py",
   "mimetype": "text/x-python",
   "name": "python",
   "nbconvert_exporter": "python",
   "pygments_lexer": "ipython3",
   "version": "3.6.8"
  }
 },
 "nbformat": 4,
 "nbformat_minor": 1
}
