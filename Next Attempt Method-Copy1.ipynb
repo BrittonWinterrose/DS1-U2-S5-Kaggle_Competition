{
 "cells": [
  {
   "cell_type": "code",
   "execution_count": 132,
   "metadata": {},
   "outputs": [
    {
     "ename": "NameError",
     "evalue": "name 'construction_year' is not defined",
     "output_type": "error",
     "traceback": [
      "\u001b[0;31m---------------------------------------------------------------------------\u001b[0m",
      "\u001b[0;31mNameError\u001b[0m                                 Traceback (most recent call last)",
      "\u001b[0;32m<ipython-input-132-97ed9488f965>\u001b[0m in \u001b[0;36m<module>\u001b[0;34m\u001b[0m\n\u001b[1;32m      3\u001b[0m \u001b[0mtabs_pivot\u001b[0m \u001b[0;34m=\u001b[0m \u001b[0;34m[\u001b[0m\u001b[0;34m'construction_year'\u001b[0m\u001b[0;34m]\u001b[0m\u001b[0;34m\u001b[0m\u001b[0;34m\u001b[0m\u001b[0m\n\u001b[1;32m      4\u001b[0m \u001b[0;34m\u001b[0m\u001b[0m\n\u001b[0;32m----> 5\u001b[0;31m \u001b[0mtable\u001b[0m \u001b[0;34m=\u001b[0m \u001b[0mdf\u001b[0m\u001b[0;34m.\u001b[0m\u001b[0mpivot\u001b[0m\u001b[0;34m(\u001b[0m \u001b[0mcolumns\u001b[0m\u001b[0;34m=\u001b[0m\u001b[0mconstruction_year\u001b[0m\u001b[0;34m)\u001b[0m\u001b[0;34m\u001b[0m\u001b[0;34m\u001b[0m\u001b[0m\n\u001b[0m",
      "\u001b[0;31mNameError\u001b[0m: name 'construction_year' is not defined"
     ]
    }
   ],
   "source": [
    "# Helpful Encoding :https://towardsdatascience.com/smarter-ways-to-encode-categorical-data-for-machine-learning-part-1-of-3-6dca2f71b159\n",
    "columns_pivot = ['region_code']\n",
    "tabs_pivot = ['construction_year']\n",
    "\n",
    "table = df.pivot( columns=construction_year)"
   ]
  },
  {
   "cell_type": "code",
   "execution_count": 143,
   "metadata": {},
   "outputs": [
    {
     "ename": "ValueError",
     "evalue": "values cannot be used without an aggfunc.",
     "output_type": "error",
     "traceback": [
      "\u001b[0;31m---------------------------------------------------------------------------\u001b[0m",
      "\u001b[0;31mValueError\u001b[0m                                Traceback (most recent call last)",
      "\u001b[0;32m<ipython-input-143-e63909a59f21>\u001b[0m in \u001b[0;36m<module>\u001b[0;34m\u001b[0m\n\u001b[0;32m----> 1\u001b[0;31m \u001b[0mpd\u001b[0m\u001b[0;34m.\u001b[0m\u001b[0mcrosstab\u001b[0m\u001b[0;34m(\u001b[0m\u001b[0;34m[\u001b[0m \u001b[0mdf\u001b[0m\u001b[0;34m.\u001b[0m\u001b[0mlga\u001b[0m\u001b[0;34m,\u001b[0m \u001b[0mdf\u001b[0m\u001b[0;34m.\u001b[0m\u001b[0mward\u001b[0m\u001b[0;34m]\u001b[0m\u001b[0;34m,\u001b[0m \u001b[0mdf\u001b[0m\u001b[0;34m.\u001b[0m\u001b[0mconstruction_year\u001b[0m\u001b[0;34m,\u001b[0m \u001b[0mvalues\u001b[0m \u001b[0;34m=\u001b[0m \u001b[0mdf\u001b[0m\u001b[0;34m.\u001b[0m\u001b[0mregion\u001b[0m\u001b[0;34m,\u001b[0m \u001b[0mmargins\u001b[0m\u001b[0;34m=\u001b[0m\u001b[0;32mFalse\u001b[0m\u001b[0;34m,\u001b[0m \u001b[0mnormalize\u001b[0m \u001b[0;34m=\u001b[0m \u001b[0;34m'index'\u001b[0m\u001b[0;34m)\u001b[0m\u001b[0;34m\u001b[0m\u001b[0;34m\u001b[0m\u001b[0m\n\u001b[0m",
      "\u001b[0;32m~/.conda/envs/basicNLP/lib/python3.6/site-packages/pandas/core/reshape/pivot.py\u001b[0m in \u001b[0;36mcrosstab\u001b[0;34m(index, columns, values, rownames, colnames, aggfunc, margins, margins_name, dropna, normalize)\u001b[0m\n\u001b[1;32m    477\u001b[0m \u001b[0;34m\u001b[0m\u001b[0m\n\u001b[1;32m    478\u001b[0m     \u001b[0;32mif\u001b[0m \u001b[0mvalues\u001b[0m \u001b[0;32mis\u001b[0m \u001b[0;32mnot\u001b[0m \u001b[0;32mNone\u001b[0m \u001b[0;32mand\u001b[0m \u001b[0maggfunc\u001b[0m \u001b[0;32mis\u001b[0m \u001b[0;32mNone\u001b[0m\u001b[0;34m:\u001b[0m\u001b[0;34m\u001b[0m\u001b[0;34m\u001b[0m\u001b[0m\n\u001b[0;32m--> 479\u001b[0;31m         \u001b[0;32mraise\u001b[0m \u001b[0mValueError\u001b[0m\u001b[0;34m(\u001b[0m\u001b[0;34m\"values cannot be used without an aggfunc.\"\u001b[0m\u001b[0;34m)\u001b[0m\u001b[0;34m\u001b[0m\u001b[0;34m\u001b[0m\u001b[0m\n\u001b[0m\u001b[1;32m    480\u001b[0m \u001b[0;34m\u001b[0m\u001b[0m\n\u001b[1;32m    481\u001b[0m     \u001b[0;32mfrom\u001b[0m \u001b[0mpandas\u001b[0m \u001b[0;32mimport\u001b[0m \u001b[0mDataFrame\u001b[0m\u001b[0;34m\u001b[0m\u001b[0;34m\u001b[0m\u001b[0m\n",
      "\u001b[0;31mValueError\u001b[0m: values cannot be used without an aggfunc."
     ]
    }
   ],
   "source": [
    "pd.crosstab([ df.lga, df.ward], df.construction_year, values = df.region, margins=False, normalize = 'index')"
   ]
  },
  {
   "cell_type": "code",
   "execution_count": 126,
   "metadata": {},
   "outputs": [
    {
     "data": {
      "text/plain": [
       "0     Iringa\n",
       "1       Mara\n",
       "2    Manyara\n",
       "3     Mtwara\n",
       "4     Kagera\n",
       "Name: region, dtype: object"
      ]
     },
     "execution_count": 126,
     "metadata": {},
     "output_type": "execute_result"
    }
   ],
   "source": [
    "df.region.head()"
   ]
  },
  {
   "cell_type": "code",
   "execution_count": 1,
   "metadata": {
    "colab": {
     "base_uri": "https://localhost:8080/",
     "height": 223
    },
    "colab_type": "code",
    "id": "ZORU0qK14eaX",
    "outputId": "ed01a1b9-1f77-4113-f161-ce041a2060b9"
   },
   "outputs": [],
   "source": [
    "import pandas as pd\n",
    "import numpy as np\n",
    "import matplotlib.pyplot as plt\n",
    "from math import cos, sin\n",
    "\n",
    "#!pip install category_encoders\n",
    "#!pip install xgboost \n",
    "import xgboost as xgb"
   ]
  },
  {
   "cell_type": "code",
   "execution_count": 2,
   "metadata": {
    "colab": {
     "base_uri": "https://localhost:8080/",
     "height": 889
    },
    "colab_type": "code",
    "id": "W5PFxqBN3l1q",
    "outputId": "8d4d9884-ba23-464b-c740-cd0c9d476719"
   },
   "outputs": [],
   "source": [
    "#df = pd.read_csv(\"../input/train_features.csv\", header=0)\n",
    "\n",
    "df = pd.read_csv(\"train_features.csv\", header=0)\n",
    "df_test = pd.read_csv(\"test_features.csv\",header=0)\n",
    "df_labels = pd.read_csv(\"train_labels.csv\", header=0)\n",
    "df_labels['status_group'].value_counts()\n",
    "df = df.merge(df_labels, on='id')"
   ]
  },
  {
   "cell_type": "code",
   "execution_count": 3,
   "metadata": {},
   "outputs": [
    {
     "data": {
      "text/plain": [
       "functional                 32259\n",
       "non functional             22824\n",
       "functional needs repair     4317\n",
       "Name: status_group, dtype: int64"
      ]
     },
     "execution_count": 3,
     "metadata": {},
     "output_type": "execute_result"
    }
   ],
   "source": [
    "df.status_group.value_counts()"
   ]
  },
  {
   "cell_type": "code",
   "execution_count": 4,
   "metadata": {},
   "outputs": [],
   "source": [
    "df_slim = df[df.status_group != 'functional needs repair']"
   ]
  },
  {
   "cell_type": "code",
   "execution_count": 5,
   "metadata": {},
   "outputs": [
    {
     "data": {
      "text/plain": [
       "functional        32259\n",
       "non functional    22824\n",
       "Name: status_group, dtype: int64"
      ]
     },
     "execution_count": 5,
     "metadata": {},
     "output_type": "execute_result"
    }
   ],
   "source": [
    "df_slim.status_group.value_counts()"
   ]
  },
  {
   "cell_type": "markdown",
   "metadata": {},
   "source": [
    "## REVISIT THIS DATA. DROP NAN ROWS? 5%"
   ]
  },
  {
   "cell_type": "code",
   "execution_count": 6,
   "metadata": {},
   "outputs": [],
   "source": [
    "# Based on the most voted answer we can easily define a function that gives us a dataframe to preview the missing values and the % of missing values in each column:\n",
    "def missing_values_table(df):\n",
    "        mis_val = df.isnull().sum()\n",
    "        mis_val_percent = 100 * df.isnull().sum() / len(df)\n",
    "        mis_val_table = pd.concat([mis_val, mis_val_percent], axis=1)\n",
    "        mis_val_table_ren_columns = mis_val_table.rename(\n",
    "        columns = {0 : 'Missing Values', 1 : '% of Total Values'})\n",
    "        mis_val_table_ren_columns = mis_val_table_ren_columns[\n",
    "            mis_val_table_ren_columns.iloc[:,1] != 0].sort_values(\n",
    "        '% of Total Values', ascending=False).round(1)\n",
    "        print (\"Your selected dataframe has \" + str(df.shape[1]) + \" columns.\\n\"      \n",
    "            \"There are \" + str(mis_val_table_ren_columns.shape[0]) +\n",
    "              \" columns that have missing values.\")\n",
    "        return mis_val_table_ren_columns"
   ]
  },
  {
   "cell_type": "code",
   "execution_count": 7,
   "metadata": {},
   "outputs": [
    {
     "name": "stdout",
     "output_type": "stream",
     "text": [
      "Your selected dataframe has 41 columns.\n",
      "There are 7 columns that have missing values.\n"
     ]
    },
    {
     "data": {
      "text/html": [
       "<div>\n",
       "<style scoped>\n",
       "    .dataframe tbody tr th:only-of-type {\n",
       "        vertical-align: middle;\n",
       "    }\n",
       "\n",
       "    .dataframe tbody tr th {\n",
       "        vertical-align: top;\n",
       "    }\n",
       "\n",
       "    .dataframe thead th {\n",
       "        text-align: right;\n",
       "    }\n",
       "</style>\n",
       "<table border=\"1\" class=\"dataframe\">\n",
       "  <thead>\n",
       "    <tr style=\"text-align: right;\">\n",
       "      <th></th>\n",
       "      <th>Missing Values</th>\n",
       "      <th>% of Total Values</th>\n",
       "    </tr>\n",
       "  </thead>\n",
       "  <tbody>\n",
       "    <tr>\n",
       "      <th>scheme_name</th>\n",
       "      <td>28166</td>\n",
       "      <td>47.4</td>\n",
       "    </tr>\n",
       "    <tr>\n",
       "      <th>scheme_management</th>\n",
       "      <td>3877</td>\n",
       "      <td>6.5</td>\n",
       "    </tr>\n",
       "    <tr>\n",
       "      <th>installer</th>\n",
       "      <td>3655</td>\n",
       "      <td>6.2</td>\n",
       "    </tr>\n",
       "    <tr>\n",
       "      <th>funder</th>\n",
       "      <td>3635</td>\n",
       "      <td>6.1</td>\n",
       "    </tr>\n",
       "    <tr>\n",
       "      <th>public_meeting</th>\n",
       "      <td>3334</td>\n",
       "      <td>5.6</td>\n",
       "    </tr>\n",
       "    <tr>\n",
       "      <th>permit</th>\n",
       "      <td>3056</td>\n",
       "      <td>5.1</td>\n",
       "    </tr>\n",
       "    <tr>\n",
       "      <th>subvillage</th>\n",
       "      <td>371</td>\n",
       "      <td>0.6</td>\n",
       "    </tr>\n",
       "  </tbody>\n",
       "</table>\n",
       "</div>"
      ],
      "text/plain": [
       "                   Missing Values  % of Total Values\n",
       "scheme_name                 28166               47.4\n",
       "scheme_management            3877                6.5\n",
       "installer                    3655                6.2\n",
       "funder                       3635                6.1\n",
       "public_meeting               3334                5.6\n",
       "permit                       3056                5.1\n",
       "subvillage                    371                0.6"
      ]
     },
     "execution_count": 7,
     "metadata": {},
     "output_type": "execute_result"
    }
   ],
   "source": [
    "missing_values_table(df)"
   ]
  },
  {
   "cell_type": "code",
   "execution_count": 8,
   "metadata": {},
   "outputs": [
    {
     "data": {
      "text/html": [
       "<div>\n",
       "<style scoped>\n",
       "    .dataframe tbody tr th:only-of-type {\n",
       "        vertical-align: middle;\n",
       "    }\n",
       "\n",
       "    .dataframe tbody tr th {\n",
       "        vertical-align: top;\n",
       "    }\n",
       "\n",
       "    .dataframe thead th {\n",
       "        text-align: right;\n",
       "    }\n",
       "</style>\n",
       "<table border=\"1\" class=\"dataframe\">\n",
       "  <thead>\n",
       "    <tr style=\"text-align: right;\">\n",
       "      <th></th>\n",
       "      <th>counts</th>\n",
       "    </tr>\n",
       "    <tr>\n",
       "      <th>features</th>\n",
       "      <th></th>\n",
       "    </tr>\n",
       "  </thead>\n",
       "  <tbody>\n",
       "    <tr>\n",
       "      <th>recorded_by</th>\n",
       "      <td>1</td>\n",
       "    </tr>\n",
       "    <tr>\n",
       "      <th>public_meeting</th>\n",
       "      <td>2</td>\n",
       "    </tr>\n",
       "    <tr>\n",
       "      <th>permit</th>\n",
       "      <td>2</td>\n",
       "    </tr>\n",
       "    <tr>\n",
       "      <th>status_group</th>\n",
       "      <td>3</td>\n",
       "    </tr>\n",
       "    <tr>\n",
       "      <th>source_class</th>\n",
       "      <td>3</td>\n",
       "    </tr>\n",
       "    <tr>\n",
       "      <th>quantity_group</th>\n",
       "      <td>5</td>\n",
       "    </tr>\n",
       "    <tr>\n",
       "      <th>quantity</th>\n",
       "      <td>5</td>\n",
       "    </tr>\n",
       "    <tr>\n",
       "      <th>management_group</th>\n",
       "      <td>5</td>\n",
       "    </tr>\n",
       "    <tr>\n",
       "      <th>quality_group</th>\n",
       "      <td>6</td>\n",
       "    </tr>\n",
       "    <tr>\n",
       "      <th>waterpoint_type_group</th>\n",
       "      <td>6</td>\n",
       "    </tr>\n",
       "    <tr>\n",
       "      <th>payment</th>\n",
       "      <td>7</td>\n",
       "    </tr>\n",
       "    <tr>\n",
       "      <th>extraction_type_class</th>\n",
       "      <td>7</td>\n",
       "    </tr>\n",
       "    <tr>\n",
       "      <th>waterpoint_type</th>\n",
       "      <td>7</td>\n",
       "    </tr>\n",
       "    <tr>\n",
       "      <th>source_type</th>\n",
       "      <td>7</td>\n",
       "    </tr>\n",
       "    <tr>\n",
       "      <th>payment_type</th>\n",
       "      <td>7</td>\n",
       "    </tr>\n",
       "    <tr>\n",
       "      <th>water_quality</th>\n",
       "      <td>8</td>\n",
       "    </tr>\n",
       "    <tr>\n",
       "      <th>basin</th>\n",
       "      <td>9</td>\n",
       "    </tr>\n",
       "    <tr>\n",
       "      <th>source</th>\n",
       "      <td>10</td>\n",
       "    </tr>\n",
       "    <tr>\n",
       "      <th>management</th>\n",
       "      <td>12</td>\n",
       "    </tr>\n",
       "    <tr>\n",
       "      <th>scheme_management</th>\n",
       "      <td>12</td>\n",
       "    </tr>\n",
       "    <tr>\n",
       "      <th>extraction_type_group</th>\n",
       "      <td>13</td>\n",
       "    </tr>\n",
       "    <tr>\n",
       "      <th>extraction_type</th>\n",
       "      <td>18</td>\n",
       "    </tr>\n",
       "    <tr>\n",
       "      <th>district_code</th>\n",
       "      <td>20</td>\n",
       "    </tr>\n",
       "    <tr>\n",
       "      <th>region</th>\n",
       "      <td>21</td>\n",
       "    </tr>\n",
       "    <tr>\n",
       "      <th>region_code</th>\n",
       "      <td>27</td>\n",
       "    </tr>\n",
       "    <tr>\n",
       "      <th>construction_year</th>\n",
       "      <td>55</td>\n",
       "    </tr>\n",
       "    <tr>\n",
       "      <th>num_private</th>\n",
       "      <td>65</td>\n",
       "    </tr>\n",
       "    <tr>\n",
       "      <th>amount_tsh</th>\n",
       "      <td>98</td>\n",
       "    </tr>\n",
       "    <tr>\n",
       "      <th>lga</th>\n",
       "      <td>125</td>\n",
       "    </tr>\n",
       "    <tr>\n",
       "      <th>date_recorded</th>\n",
       "      <td>356</td>\n",
       "    </tr>\n",
       "    <tr>\n",
       "      <th>population</th>\n",
       "      <td>1049</td>\n",
       "    </tr>\n",
       "    <tr>\n",
       "      <th>funder</th>\n",
       "      <td>1897</td>\n",
       "    </tr>\n",
       "    <tr>\n",
       "      <th>ward</th>\n",
       "      <td>2092</td>\n",
       "    </tr>\n",
       "    <tr>\n",
       "      <th>installer</th>\n",
       "      <td>2145</td>\n",
       "    </tr>\n",
       "    <tr>\n",
       "      <th>gps_height</th>\n",
       "      <td>2428</td>\n",
       "    </tr>\n",
       "    <tr>\n",
       "      <th>scheme_name</th>\n",
       "      <td>2696</td>\n",
       "    </tr>\n",
       "    <tr>\n",
       "      <th>subvillage</th>\n",
       "      <td>19287</td>\n",
       "    </tr>\n",
       "    <tr>\n",
       "      <th>wpt_name</th>\n",
       "      <td>37400</td>\n",
       "    </tr>\n",
       "    <tr>\n",
       "      <th>longitude</th>\n",
       "      <td>57516</td>\n",
       "    </tr>\n",
       "    <tr>\n",
       "      <th>latitude</th>\n",
       "      <td>57517</td>\n",
       "    </tr>\n",
       "    <tr>\n",
       "      <th>id</th>\n",
       "      <td>59400</td>\n",
       "    </tr>\n",
       "  </tbody>\n",
       "</table>\n",
       "</div>"
      ],
      "text/plain": [
       "                       counts\n",
       "features                     \n",
       "recorded_by                 1\n",
       "public_meeting              2\n",
       "permit                      2\n",
       "status_group                3\n",
       "source_class                3\n",
       "quantity_group              5\n",
       "quantity                    5\n",
       "management_group            5\n",
       "quality_group               6\n",
       "waterpoint_type_group       6\n",
       "payment                     7\n",
       "extraction_type_class       7\n",
       "waterpoint_type             7\n",
       "source_type                 7\n",
       "payment_type                7\n",
       "water_quality               8\n",
       "basin                       9\n",
       "source                     10\n",
       "management                 12\n",
       "scheme_management          12\n",
       "extraction_type_group      13\n",
       "extraction_type            18\n",
       "district_code              20\n",
       "region                     21\n",
       "region_code                27\n",
       "construction_year          55\n",
       "num_private                65\n",
       "amount_tsh                 98\n",
       "lga                       125\n",
       "date_recorded             356\n",
       "population               1049\n",
       "funder                   1897\n",
       "ward                     2092\n",
       "installer                2145\n",
       "gps_height               2428\n",
       "scheme_name              2696\n",
       "subvillage              19287\n",
       "wpt_name                37400\n",
       "longitude               57516\n",
       "latitude                57517\n",
       "id                      59400"
      ]
     },
     "execution_count": 8,
     "metadata": {},
     "output_type": "execute_result"
    }
   ],
   "source": [
    "counts_ = []\n",
    "features = list(df.columns)\n",
    "\n",
    "fc = []\n",
    "for x in features: fc.append([x, df[x].nunique()])\n",
    "pd.DataFrame(data=fc, columns = ['features','counts']).sort_values(by=['counts']).set_index(['features'])"
   ]
  },
  {
   "cell_type": "code",
   "execution_count": 9,
   "metadata": {},
   "outputs": [],
   "source": [
    "# Encode my Y label and return a list of my labels. \n",
    "def labeler(dataframe, column):\n",
    "    from sklearn.preprocessing import LabelEncoder\n",
    "    dataframe =  dataframe.copy()\n",
    "    le = LabelEncoder()\n",
    "    dataframe['labels'] = le.fit_transform(dataframe[column])\n",
    "    labels = [0,1,2]\n",
    "    label_names = list(le.inverse_transform(labels))\n",
    "    label_list = [labels, label_names]\n",
    "    return dataframe['labels'], label_list\n",
    "\n",
    "\n",
    "def slimlabeler(dataframe, column):\n",
    "    from sklearn.preprocessing import LabelEncoder\n",
    "    dataframe =  dataframe.copy()\n",
    "    le = LabelEncoder()\n",
    "    dataframe['labels'] = le.fit_transform(dataframe[column])\n",
    "    labels = [0,1]\n",
    "    label_names = list(le.inverse_transform(labels))\n",
    "    label_list = [labels, label_names]\n",
    "    return dataframe['labels'], label_list\n",
    "\n",
    "\n",
    "# Turn Lat/Long into x,y,z, coord plane. \n",
    "def lat_long(dataframe):\n",
    "    from math import cos, sin \n",
    "    dataframe =  dataframe.copy()\n",
    "    dataframe['x_coord'] = dataframe.latitude.apply(lambda x: cos(x)) * dataframe.longitude.apply(lambda x: cos(x))\n",
    "    dataframe['y_coord'] = dataframe.latitude.apply(lambda x: cos(x)) * dataframe.longitude.apply(lambda x: sin(x))\n",
    "    dataframe['z_coord'] = dataframe.latitude.apply(lambda x: sin(x))\n",
    "    dataframe = dataframe.drop(columns=['latitude', 'longitude'])\n",
    "    return dataframe\n",
    "\n",
    "# Fix silly boolean issue. \n",
    "def no_bool(dataframe, columns):\n",
    "    dataframe =  dataframe.copy()\n",
    "    for column in columns:\n",
    "        dataframe[column] = dataframe[column].replace({True: 'Yes', False: 'No'})\n",
    "    return dataframe\n",
    "        "
   ]
  },
  {
   "cell_type": "code",
   "execution_count": 10,
   "metadata": {},
   "outputs": [],
   "source": [
    "#for i in names:\n",
    "#    temp_df.loc[temp_df[i].value_counts()[temp_df[i]].values < 20, i] = \"RARE_VALUE\""
   ]
  },
  {
   "cell_type": "code",
   "execution_count": 11,
   "metadata": {},
   "outputs": [],
   "source": [
    "# Now to decide how to handle the following madness:\n",
    "\"\"\"\n",
    "wpt_name\t37400: These have some sites that encompass more than one well. \n",
    "date_recorded\t356: DROP, missing data. \n",
    "\n",
    "# I'll deal with these ones after getting a new baseline. \n",
    "lga\t125\n",
    "funder\t1897 - Trim?\n",
    "    print(data.funder.value_counts()[data.funder.value_counts()>777])\n",
    "    print(len(list(data.funder.value_counts()[data.funder.value_counts()<777])))\n",
    "ward\t2092 \n",
    "installer\t2145\n",
    "scheme_name\t2696 drop\n",
    "subvillage\t19287\n",
    "\"\"\";"
   ]
  },
  {
   "cell_type": "code",
   "execution_count": 12,
   "metadata": {},
   "outputs": [],
   "source": [
    "## This portion was tedious. I first looked at the .nunique counts for all of these then compared the value counts of each pair to select the features.\n",
    "## Feature\tvalue_count()\n",
    "\n",
    "# DROP status_group\t3 : \n",
    "# DROP id\t59400: because duh. \n",
    "# DROP recorded_by\t1 : Only one source. \n",
    "\n",
    "# KEEP public_meeting\t2 : Boolean to object. \n",
    "# KEEP permit\t2: Boolean to object.  \n",
    "\n",
    "# KEEP source_class\t3 \n",
    "# KEEP source\t10: These two are sufficiently different. \n",
    "# DROP source_type\t7 : This one is source but with less detail. Not ordered. \n",
    "\n",
    "# DROP quantity_group\t5 : These two are exactly the same. Drop either. \n",
    "# KEEP  quantity\t5 : enough, insufficient, dry, seasonal, unknown  - possibly cat/ordinal\n",
    "\n",
    "# KEEP management\t12 : Most detailed, not ordered. \n",
    "# DROP management_group\t5 : less-detailed, summary-grouping. Not ordered.\n",
    "# DROP scheme_management\t12 : Missing Values, similar info to management. \n",
    "\n",
    "# DROP payment\t7\n",
    "# KEEP payment_type\t7 : Shorter Column headers. Identical otherwise.\n",
    "\n",
    "# KEEP water_quality\t8\n",
    "# DROP quality_group\t6\n",
    "\n",
    "# DROP waterpoint_type_group\t6\n",
    "# KEEP waterpoint_type\t7\n",
    "\n",
    "# DROP extraction_type_class\t7\n",
    "# DROP extraction_type_group\t13\n",
    "# KEEP extraction_type\t18\n",
    "\n",
    "\n",
    "### GEOGRAPHY \n",
    "# DROP longitude\t57516: Replace with X,Y,Z coordinates\n",
    "# DROP latitude\t57517\n",
    "\n",
    "# KEEP basin\t9 - Non-Regional boarder may overlap with some other indicators of location. \n",
    "\n",
    "# DROP region\t21 \n",
    "# KEEP region_code\t27: Region Code contains more detail than Region. \n",
    "\n",
    "# DROP district_code\t20\n",
    "# KEEP lga\t125 : Lga is district with urban/rural flag added in on some values. Lga is most detailed.\n",
    "\n",
    "# ward\t2092\n",
    "# gps_height\t2428\n",
    "# subvillage\t19287\n",
    "# wpt_name\t37400\n",
    "\n",
    "\n",
    "### OTHER\n",
    "# construction_year\t55\n",
    "# num_private\t65\n",
    "# amount_tsh\t98\n",
    "# date_recorded\t356\n",
    "# population\t1049\n",
    "\n",
    "\n",
    "### High Cardinality\n",
    "# funder\t1897\n",
    "# installer\t2145\n",
    "# PDROP  scheme_name\t2696 - High cardinality, low \n",
    "\n",
    "['id', 'status_group', 'recorded_by', 'region', 'funder', 'district_code', 'extraction_type_group', 'management_group', 'quality_group', 'waterpoint_type_group', 'extraction_type_class', 'wpt_name']\n",
    "['region_code', 'installer', 'scheme_name', 'date_recorded', 'lga', 'subvillage', 'basin', 'ward', 'public_meeting', 'scheme_management', 'permit', 'extraction_type', 'management', 'payment', 'payment_type', 'water_quality', 'quantity', 'quantity_group', 'source', 'source_type', 'source_class', 'waterpoint_type']\n",
    "\n",
    "['id', 'status_group', 'recorded_by', 'region', 'funder', 'district_code', 'wpt_name', 'extraction_type_group', 'management_group', 'quality_group', 'waterpoint_type_group', 'extraction_type_class']\n",
    "['region_code', 'installer', 'scheme_name', 'date_recorded', 'lga', 'subvillage', 'basin', 'ward', 'public_meeting', 'scheme_management', 'permit', 'extraction_type', 'management', 'payment', 'payment_type', 'water_quality', 'quantity', 'quantity_group', 'source', 'source_type', 'source_class', 'waterpoint_type']"
   ]
  },
  {
   "cell_type": "code",
   "execution_count": 13,
   "metadata": {},
   "outputs": [
    {
     "data": {
      "text/plain": [
       "dtype('int64')"
      ]
     },
     "execution_count": 13,
     "metadata": {},
     "output_type": "execute_result"
    }
   ],
   "source": [
    "df.construction_year.dtype"
   ]
  },
  {
   "cell_type": "code",
   "execution_count": 70,
   "metadata": {},
   "outputs": [
    {
     "name": "stdout",
     "output_type": "stream",
     "text": [
      "['id', 'status_group', 'recorded_by', 'region', 'funder', 'district_code', 'extraction_type_group', 'management_group', 'quality_group', 'waterpoint_type_group', 'extraction_type_class', 'wpt_name']\n",
      "['region_code', 'installer', 'scheme_name', 'date_recorded', 'lga', 'subvillage', 'basin', 'ward', 'public_meeting', 'scheme_management', 'permit', 'extraction_type', 'management', 'payment', 'payment_type', 'water_quality', 'quantity', 'quantity_group', 'source', 'source_type', 'source_class', 'waterpoint_type']\n",
      "['basin', 'ward', 'public_meeting', 'scheme_management', 'permit', 'extraction_type', 'management', 'payment', 'payment_type', 'water_quality', 'quantity', 'quantity_group', 'source', 'source_type', 'source_class', 'waterpoint_type', 'amount_tsh', 'gps_height', 'num_private', 'population', 'construction_year', 'x_coord', 'y_coord', 'z_coord', 'region_code', 'installer', 'scheme_name', 'date_recorded', 'lga', 'subvillage', 'basin', 'ward', 'public_meeting', 'scheme_management', 'permit', 'extraction_type', 'management', 'payment', 'payment_type', 'water_quality', 'quantity', 'quantity_group', 'source', 'source_type', 'source_class', 'waterpoint_type']\n"
     ]
    }
   ],
   "source": [
    "# Fix or Enhance Features\n",
    "data = df\n",
    "data = lat_long(data)\n",
    "data = no_bool(data, ['permit', 'public_meeting'])\n",
    "\n",
    "# Define those datasets\n",
    "X = data\n",
    "y, label_list = labeler(df, 'status_group')\n",
    "y.head()\n",
    "\n",
    "# feature thoughts\n",
    "nope = ['recorded_by','construction_year', 'payment_type', 'quantity_group','source_type']\n",
    "good = ['permit']\n",
    "first = ['extraction_type','management', 'payment','water_quality', 'quantity','source', 'source_class','waterpoint_type']\n",
    "second = ['extraction_type_group','management_group','quality_group','waterpoint_type_group']\n",
    "third = ['extraction_type_class']\n",
    "\n",
    "# Passthrough features. These are any I don't want to mess with. \n",
    "passthrough_features = []\n",
    "\n",
    "#Testing\n",
    "to_be_tested = ['subvillage']\n",
    "to_be_tested_remove = ['construction_year', 'payment_type', 'quantity_group']\n",
    "test_remove = second + third\n",
    "test_add_oh = []\n",
    "test_add_binary = []\n",
    "test_add_numeric = []\n",
    "\n",
    "# Ones that aren't actually numeric.\n",
    "binary_features = ['region_code','installer','scheme_name','date_recorded','lga','subvillage','wpt_name']\n",
    "hashing_features = []\n",
    "\n",
    "# Dropping features\n",
    "drop_features_tune = ['id', 'status_group','recorded_by',\"region\",'funder','district_code',]\n",
    "drop_features_testing = ['wpt_name',]\n",
    "drop_features = drop_features_tune + test_remove + drop_features_testing\n",
    "\n",
    "# my need to convert region_code to \n",
    "\n",
    "# Ones to binary encode (high cardinality)\n",
    "#binary_features = ['funder','installer','scheme_name', 'subvillage','region_code', 'district_code']\n",
    "\n",
    "# Defining my one-hot variables. \n",
    "one_hot_features = list(X.select_dtypes(include=['object']))\n",
    "numeric_features = list(X.select_dtypes(include=['float64', 'int64']))\n",
    "\n",
    "# Remove features from duplicates if present. \n",
    "for x in drop_features:\n",
    "    if x in one_hot_features: one_hot_features.remove(x)\n",
    "    if x in numeric_features: numeric_features.remove(x)\n",
    "    if x in binary_features: binary_features.remove(x)\n",
    "    if x in hashing_features: hashing_features.remove(x)\n",
    "\n",
    "for x in binary_features:\n",
    "    if x in one_hot_features: one_hot_features.remove(x)\n",
    "    if x in numeric_features: numeric_features.remove(x)\n",
    "        \n",
    "for x in hashing_features: \n",
    "    if x in one_hot_features: one_hot_features.remove(x)\n",
    "    if x in numeric_features: numeric_features.remove(x)\n",
    "\n",
    "funder_features\n",
    "\n",
    "binary_features = binary_features + one_hot_features\n",
    "# List features\n",
    "the_selected_features = passthrough_features + one_hot_features + numeric_features + binary_features + hashing_features\n",
    "\n",
    "print(drop_features)\n",
    "print(binary_features)\n",
    "print(the_selected_features)"
   ]
  },
  {
   "cell_type": "code",
   "execution_count": 71,
   "metadata": {
    "colab": {},
    "colab_type": "code",
    "id": "AQGZUUjl3jw6"
   },
   "outputs": [],
   "source": [
    "from sklearn.preprocessing import LabelEncoder, OneHotEncoder, OrdinalEncoder, RobustScaler, StandardScaler, PolynomialFeatures\n",
    "from sklearn.impute import SimpleImputer\n",
    "from sklearn.decomposition import PCA\n",
    "from sklearn.compose import ColumnTransformer\n",
    "from sklearn.pipeline import Pipeline, make_pipeline\n",
    "from sklearn.model_selection import GridSearchCV, train_test_split\n",
    "from sklearn.feature_selection import f_classif, chi2, SelectKBest\n",
    "from sklearn.linear_model import RidgeClassifier, LogisticRegression\n",
    "from sklearn.metrics import accuracy_score, f1_score, confusion_matrix\n",
    "from category_encoders.hashing import HashingEncoder\n",
    "from category_encoders.binary import BinaryEncoder\n",
    "from xgboost import XGBClassifier\n",
    "from sklearn.model_selection import cross_validate\n",
    "from sklearn.model_selection import KFold\n",
    "\n",
    "# Preprocessing pipelines for both numeric and categorical data.\n",
    "# Using column_transformer https://scikit-learn.org/stable/modules/generated/sklearn.compose.ColumnTransformer.html\n",
    "\n",
    "\n",
    "# Define my custom pipeline functions for each type of data. Columns not expressly included are dropped.  \n",
    "\n",
    "\n",
    "numeric_transformer = Pipeline(steps=[\n",
    "    ('imputer', SimpleImputer(strategy='median')),\n",
    "    ('scaler', StandardScaler())])\n",
    "\n",
    "one_hot_transformer = Pipeline(steps=[\n",
    "    ('imputer', SimpleImputer(strategy='constant', fill_value='missing')),\n",
    "    ('onehot', OneHotEncoder(handle_unknown='ignore'))])\n",
    "\n",
    "binary_transformer = Pipeline(steps=[\n",
    "    ('imputer', SimpleImputer(strategy='constant', fill_value='missing')),\n",
    "    ('binary', BinaryEncoder(drop_invariant=True,return_df=True))])\n",
    "\n",
    "hashing_transformer = Pipeline(steps=[\n",
    "    ('imputer', SimpleImputer(strategy='constant', fill_value='missing')),\n",
    "    ('hashing', HashingEncoder())])\n",
    "\n",
    "_transformer = Pipeline(steps=[\n",
    "    ('imputer', SimpleImputer(strategy='constant', fill_value='missing')),\n",
    "    ('binary', BinaryEncoder(drop_invariant=True,return_df=True)),\n",
    "    ('pca1', PCA(n_components = 10))])\n",
    "\n",
    "\n",
    "# Create preprocessor pipeline\n",
    "PreProcessor = ColumnTransformer(\n",
    "    transformers=[\n",
    "#        ('pass', 'passthrough', passthrough_features),\n",
    "        ('drop', 'drop', drop_features),\n",
    "        #('hash', hashing_transformer, hashing_features),\n",
    "        ('biy', binary_transformer, binary_features),\n",
    "        ('num', numeric_transformer, numeric_features),\n",
    "        ('fndr',funder_transformer, funder_features)\n",
    "        #('o-h', one_hot_transformer, one_hot_features)\n",
    "    ],\n",
    "    n_jobs = -2)\n",
    "\n",
    "# Lets test it."
   ]
  },
  {
   "cell_type": "code",
   "execution_count": 76,
   "metadata": {},
   "outputs": [
    {
     "name": "stdout",
     "output_type": "stream",
     "text": [
      "(53460, 42) (53460,)\n"
     ]
    },
    {
     "data": {
      "text/plain": [
       "(53460, 124)"
      ]
     },
     "execution_count": 76,
     "metadata": {},
     "output_type": "execute_result"
    }
   ],
   "source": [
    "# Test Train Split\n",
    "X_train, X_val, y_train, y_val = train_test_split(X, y, test_size=0.1,random_state=42)\n",
    "print(X_train.shape, y_train.shape)\n",
    "PreProcessor.fit_transform(X_train, y_train).shape"
   ]
  },
  {
   "cell_type": "markdown",
   "metadata": {},
   "source": [
    "## Feature Baseline"
   ]
  },
  {
   "cell_type": "code",
   "execution_count": 102,
   "metadata": {},
   "outputs": [
    {
     "name": "stdout",
     "output_type": "stream",
     "text": [
      "model score: 0.920651\n",
      "model score: 0.814983\n"
     ]
    }
   ],
   "source": [
    "clf1 = make_pipeline(PreProcessor, XGBClassifier(silent=True, \n",
    "                      scale_pos_weight=1,\n",
    "                      learning_rate=0.02,  \n",
    "                      colsample_bytree = 0.3,\n",
    "                      subsample = 0.8,\n",
    "                      objective='binary:logistic', \n",
    "                      n_estimators=100, \n",
    "                      reg_alpha = 0.0,\n",
    "                      max_depth=17, \n",
    "                      gamma=1,\n",
    "                      nthread = 10,random_state = 42))\n",
    "\n",
    "clf1.fit(X_train, y_train)\n",
    "print(\"model score: %.6f\" % clf1.score(X_train, y_train))\n",
    "print(\"model score: %.6f\" % clf1.score(X_val, y_val))"
   ]
  },
  {
   "cell_type": "code",
   "execution_count": 77,
   "metadata": {},
   "outputs": [],
   "source": [
    "clf3 = make_pipeline(PreProcessor, XGBClassifier(silent=True, \n",
    "                      scale_pos_weight=1,\n",
    "                      learning_rate=0.02,  \n",
    "                      colsample_bytree = 0.3,\n",
    "                      subsample = 0.8,\n",
    "                      objective='binary:logistic', \n",
    "                      n_estimators=100, \n",
    "                      reg_alpha = 0.4,\n",
    "                      max_depth=17, \n",
    "                      gamma=1,\n",
    "                      nthread = 10,random_state = 7))\n",
    "\n",
    "scores = cross_validate(clf3, X, y,\n",
    "                        scoring='accuracy', cv=5,\n",
    "                        return_estimator=True )"
   ]
  },
  {
   "cell_type": "code",
   "execution_count": 95,
   "metadata": {},
   "outputs": [],
   "source": [
    "maiest = pd.DataFrame(scores).rename(columns={\"test_score\": 'validation_score'}).loc[0][2]"
   ]
  },
  {
   "cell_type": "code",
   "execution_count": 96,
   "metadata": {},
   "outputs": [
    {
     "ename": "NameError",
     "evalue": "name 'X_test' is not defined",
     "output_type": "error",
     "traceback": [
      "\u001b[0;31m---------------------------------------------------------------------------\u001b[0m",
      "\u001b[0;31mNameError\u001b[0m                                 Traceback (most recent call last)",
      "\u001b[0;32m<ipython-input-96-44d16965cec9>\u001b[0m in \u001b[0;36m<module>\u001b[0;34m\u001b[0m\n\u001b[0;32m----> 1\u001b[0;31m \u001b[0mmaiest\u001b[0m\u001b[0;34m.\u001b[0m\u001b[0mpredict\u001b[0m\u001b[0;34m(\u001b[0m\u001b[0mX_test\u001b[0m\u001b[0;34m)\u001b[0m\u001b[0;34m\u001b[0m\u001b[0;34m\u001b[0m\u001b[0m\n\u001b[0m",
      "\u001b[0;31mNameError\u001b[0m: name 'X_test' is not defined"
     ]
    }
   ],
   "source": []
  },
  {
   "cell_type": "code",
   "execution_count": 107,
   "metadata": {},
   "outputs": [
    {
     "name": "stdout",
     "output_type": "stream",
     "text": [
      "model score: 0.893996\n",
      "model score: 0.823906\n"
     ]
    }
   ],
   "source": [
    "clf2 = make_pipeline(PreProcessor, XGBClassifier(silent=True, \n",
    "                      scale_pos_weight=1,\n",
    "                      learning_rate=0.02,  \n",
    "                      colsample_bytree = 0.3,\n",
    "                      subsample = 0.8,\n",
    "                      objective='binary:logistic', \n",
    "                      n_estimators=100, \n",
    "                      reg_alpha = 0.4,\n",
    "                      max_depth=17, \n",
    "                      gamma=1, nthread = 10))\n",
    "\n",
    "clf2.fit(X_train, y_train)\n",
    "print(\"model score: %.6f\" % clf2.score(X_train, y_train))\n",
    "print(\"model score: %.6f\" % clf2.score(X_val, y_val))"
   ]
  },
  {
   "cell_type": "markdown",
   "metadata": {},
   "source": [
    "## XGBoost Tuning"
   ]
  },
  {
   "cell_type": "code",
   "execution_count": null,
   "metadata": {},
   "outputs": [],
   "source": [
    "## XGBoost Tuning: Tree Max Depth\n",
    "XGPipe = make_pipeline(PreProcessor, XGBClassifier(silent=False,scale_pos_weight=1,learning_rate=0.01,  colsample_bytree = 0.8,subsample = 0.8,objective='binary:logistic', n_estimators=100, reg_alpha = 0.4,max_depth=17, gamma=1))\n",
    "\n",
    "param_grid = {\n",
    "    'xgbclassifier__max_depth':[5,10,15,17,19,20], # 20, \n",
    "    #'xgbclassifier__n_estimators':[50, 150, 250, 350, 450],\n",
    "    #'xgbclassifier__colsample_bytree':[.3, .8, .9, 1.0],\n",
    "    #'xgbclassifier__learning_rate':[0.001, 0.0045, 0.0065, 0.010], \n",
    "    #'xgbclassifier__reg_lambda':[0, 0.01, 0.10, 0.50, 1]\n",
    "    }\n",
    "grid = {}\n",
    "\n",
    "# Fit on the train set, with grid search cross-validation\n",
    "XGsearch = GridSearchCV(XGPipe, param_grid=param_grid, cv=3, scoring='accuracy', verbose=10, n_jobs=-2)\n",
    "\n",
    "XGsearch.fit(X_train, y_train)\n",
    "print(\"train model score: %.3f\" % XGsearch.score(X_train, y_train))\n",
    "print(\"validate model score: %.3f\" % XGsearch.score(X_val, y_val))\n",
    "best_params = XGsearch.best_params_\n",
    "best_score = XGsearch.best_score_\n",
    "print(best_params)"
   ]
  },
  {
   "cell_type": "code",
   "execution_count": null,
   "metadata": {},
   "outputs": [],
   "source": [
    "# XGBoost Tuning: Number of Trees(cycles)\n",
    "XGPipe = make_pipeline(PreProcessor, XGBClassifier(silent=False,scale_pos_weight=1,learning_rate=0.01,  colsample_bytree = 0.8,subsample = 0.8,objective='binary:logistic', n_estimators=100, reg_alpha = 0.4, max_depth=17, gamma=1))\n",
    "\n",
    "param_grid = {\n",
    "    'xgbclassifier__n_estimators':[450, 550, 1000]\n",
    "    #'xgbclassifier__colsample_bytree':[.3, .8, .9, 1.0],\n",
    "    #'xgbclassifier__learning_rate':[0.001, 0.0045, 0.0065, 0.010], \n",
    "    #'xgbclassifier__reg_lambda':[0, 0.01, 0.10, 0.50, 1]\n",
    "    }\n",
    "grid = {}\n",
    "\n",
    "# Fit on the train set, with grid search cross-validation\n",
    "XGsearch = GridSearchCV(XGPipe, param_grid=param_grid, cv=3, scoring='accuracy', verbose=10, n_jobs=-2)\n",
    "\n",
    "XGsearch.fit(X_train, y_train)\n",
    "print(\"train model score: %.3f\" % XGsearch.score(X_train, y_train))\n",
    "print(\"validate model score: %.3f\" % XGsearch.score(X_val, y_val))\n",
    "best_params = XGsearch.best_params_\n",
    "best_score = XGsearch.best_score_\n",
    "print(best_params)"
   ]
  },
  {
   "cell_type": "code",
   "execution_count": null,
   "metadata": {},
   "outputs": [],
   "source": [
    "## XGBoost Tuning: (colsample)\n",
    "XGPipe = make_pipeline(PreProcessor, XGBClassifier(silent=False,scale_pos_weight=1,learning_rate=0.01, colsample_bytree = 0.8,subsample = 0.8,objective='binary:logistic', n_estimators=450, reg_alpha = 0.4, max_depth=17, gamma=1))\n",
    "\n",
    "param_grid = {\n",
    "    'xgbclassifier__colsample_bytree':[.3, .8, .9, 1.0],\n",
    "    #'xgbclassifier__learning_rate':[0.001, 0.0045, 0.0065, 0.010], \n",
    "    #'xgbclassifier__reg_lambda':[0, 0.01, 0.10, 0.50, 1]\n",
    "    }\n",
    "grid = {}\n",
    "\n",
    "# Fit on the train set, with grid search cross-validation\n",
    "XGsearch = GridSearchCV(XGPipe, param_grid=param_grid, cv=3, scoring='accuracy', verbose=10, n_jobs=-2)\n",
    "\n",
    "XGsearch.fit(X_train, y_train)\n",
    "print(\"train model score: %.3f\" % XGsearch.score(X_train, y_train))\n",
    "print(\"validate model score: %.3f\" % XGsearch.score(X_val, y_val))\n",
    "best_params = XGsearch.best_params_\n",
    "best_score = XGsearch.best_score_\n",
    "print(best_params)"
   ]
  },
  {
   "cell_type": "code",
   "execution_count": null,
   "metadata": {},
   "outputs": [],
   "source": [
    "## XGBoost Tuning: (colsample)\n",
    "XGPipe = make_pipeline(PreProcessor, XGBClassifier(silent=False,scale_pos_weight=1,learning_rate=0.01, colsample_bytree = 0.3, subsample = 0.8,objective='binary:logistic', n_estimators=450, reg_alpha = 0.1, max_depth=17, gamma=1))\n",
    "\n",
    "param_grid = {\n",
    "    'xgbclassifier__learning_rate':[0.001, 0.0045, 0.0065, 0.010], \n",
    "    'xgbclassifier__reg_lambda':[0, 0.01, 0.10, 0.50, 1]\n",
    "    }\n",
    "grid = {}\n",
    "\n",
    "# Fit on the train set, with grid search cross-validation\n",
    "XGsearch = GridSearchCV(XGPipe, param_grid=param_grid, cv=3, scoring='accuracy', verbose=10, n_jobs=-2)\n",
    "\n",
    "XGsearch.fit(X_train, y_train)\n",
    "print(\"train model score: %.3f\" % XGsearch.score(X_train, y_train))\n",
    "print(\"validate model score: %.3f\" % XGsearch.score(X_val, y_val))\n",
    "best_params = XGsearch.best_params_\n",
    "best_score = XGsearch.best_score_\n",
    "print(best_params)"
   ]
  },
  {
   "cell_type": "code",
   "execution_count": null,
   "metadata": {},
   "outputs": [],
   "source": [
    "clf2.named_steps['xgbclassifier'].feature_importances_"
   ]
  },
  {
   "cell_type": "code",
   "execution_count": null,
   "metadata": {},
   "outputs": [],
   "source": [
    "pipe2 = make_pipeline(\n",
    "    PreProcessor,  \n",
    "    LogisticRegression())\n",
    "\n",
    "param_grid2 = {\n",
    "    'logisticregression__C': [0.01, 0.1, 1, 3 10]\n",
    "    }\n",
    "\n",
    "# Fit on the train set, with grid search cross-validation\n",
    "gs2 = GridSearchCV(pipe2, param_grid=param_grid2, cv=3, \n",
    "                      scoring='accuracy', \n",
    "                      verbose=10, n_jobs=-2)\n",
    "gs2.fit(X_train, y_train)\n",
    "\n",
    "\n",
    "print(\"model score: %.3f\" % gs2.score(X_train, y_train))\n",
    "print(\"model score: %.3f\" % gs2.score(X_val, y_val))"
   ]
  },
  {
   "cell_type": "markdown",
   "metadata": {},
   "source": [
    "### Trying with Ridge Classifier"
   ]
  },
  {
   "cell_type": "code",
   "execution_count": null,
   "metadata": {},
   "outputs": [],
   "source": [
    "pipe = make_pipeline(\n",
    "    PreProcessor, \n",
    "    SelectKBest(f_classif), \n",
    "    RidgeClassifier())\n",
    "\n",
    "param_grid = {\n",
    "    'selectkbest__k': range(1, len(X_train.columns)+1), \n",
    "    'ridgeclassifier__alpha': [0.001, 0.1, 0.5, 1.0, 2.0, 5.0, 10.0]\n",
    "    }\n",
    "\n",
    "# Fit on the train set, with grid search cross-validation\n",
    "gs = GridSearchCV(pipe, param_grid=param_grid, cv=5, \n",
    "                      scoring='accuracy', \n",
    "                      verbose=10, n_jobs=-2)\n",
    "gs.fit(X_train, y_train)\n",
    "print(\"model score: %.3f\" % gs.score(X_train, y_train))\n",
    "print(\"model score: %.3f\" % gs.score(X_val, y_val))"
   ]
  },
  {
   "cell_type": "markdown",
   "metadata": {},
   "source": [
    "### Deep diving on some of these features.\n"
   ]
  },
  {
   "cell_type": "code",
   "execution_count": null,
   "metadata": {},
   "outputs": [],
   "source": [
    "print(data.ward.value_counts()[data.funder.value_counts()>777])\n",
    "print(len(list(data.ward.value_counts()[data.funder.value_counts()<777])))"
   ]
  },
  {
   "cell_type": "code",
   "execution_count": null,
   "metadata": {},
   "outputs": [],
   "source": [
    "print(data.wpt_name.value_counts()[data.wpt_name.value_counts()>100])\n",
    "print(len(list(data.wpt_name.value_counts()[data.wpt_name.value_counts()<100])))"
   ]
  },
  {
   "cell_type": "code",
   "execution_count": null,
   "metadata": {},
   "outputs": [],
   "source": [
    "data.T.head(40)"
   ]
  },
  {
   "cell_type": "code",
   "execution_count": null,
   "metadata": {},
   "outputs": [],
   "source": [
    "data.waterpoint_type.value_counts()"
   ]
  },
  {
   "cell_type": "code",
   "execution_count": null,
   "metadata": {},
   "outputs": [],
   "source": [
    "df.region_code.nunique()"
   ]
  },
  {
   "cell_type": "code",
   "execution_count": null,
   "metadata": {},
   "outputs": [],
   "source": [
    "from sklearn.feature_selection import RFECV\n",
    "clf8 = make_pipeline(PreProcessor, RFECV(estimator=LogisticRegression(), step=1, min_features_to_select=1, cv=3, scoring='accuracy', verbose=10, n_jobs=-2))\n",
    "clf8.fit(X_train, y_train)\n",
    "print(\"model score: %.3f\" % clf8.score(X_train, y_train))\n",
    "print(\"model score: %.3f\" % clf8.score(X_val, y_val))"
   ]
  },
  {
   "cell_type": "code",
   "execution_count": 113,
   "metadata": {},
   "outputs": [
    {
     "data": {
      "text/plain": [
       "Pipeline(memory=None,\n",
       "     steps=[('columntransformer', ColumnTransformer(n_jobs=-2, remainder='drop', sparse_threshold=0.3,\n",
       "         transformer_weights=None,\n",
       "         transformers=[('drop', 'drop', ['id', 'status_group', 'recorded_by', 'region', 'funder', 'district_code', 'extraction_type_group', 'management_group', 'qualit...    reg_alpha=0.4, reg_lambda=1, scale_pos_weight=1, seed=None,\n",
       "       silent=True, subsample=0.8))])"
      ]
     },
     "execution_count": 113,
     "metadata": {},
     "output_type": "execute_result"
    }
   ],
   "source": [
    "clf1 = make_pipeline(PreProcessor, XGBClassifier(silent=True, \n",
    "                      scale_pos_weight=1,\n",
    "                      learning_rate=0.02,  \n",
    "                      colsample_bytree = 0.3,\n",
    "                      subsample = 0.8,\n",
    "                      objective='binary:logistic', \n",
    "                      n_estimators=100, \n",
    "                      reg_alpha = 0.4,\n",
    "                      max_depth=17, \n",
    "                      gamma=1,\n",
    "                      nthread = 10))\n",
    "\n",
    "clf1.fit(X, y)"
   ]
  },
  {
   "cell_type": "markdown",
   "metadata": {},
   "source": [
    "## Pre-process the test data, make predictions, and format submission"
   ]
  },
  {
   "cell_type": "code",
   "execution_count": 103,
   "metadata": {},
   "outputs": [
    {
     "name": "stdout",
     "output_type": "stream",
     "text": [
      "(14358, 40)\n",
      "(14358, 42)\n"
     ]
    }
   ],
   "source": [
    "print(df_test.shape)\n",
    "test_data = lat_long(df_test)\n",
    "test_data['status_group'] = df_test.id\n",
    "test_data = no_bool(test_data, ['permit', 'public_meeting'])\n",
    "#test_data = PreProcessor.fit_transform(test_data)\n",
    "print(test_data.shape)"
   ]
  },
  {
   "cell_type": "code",
   "execution_count": 104,
   "metadata": {
    "scrolled": true
   },
   "outputs": [],
   "source": [
    "#Make predictions using the features from the test data set\n",
    "predictions = clf1.predict(test_data)\n",
    "\n",
    "# Map our labels back onto the predictions\n",
    "keys = label_list[0]\n",
    "values = label_list[1]\n",
    "status_labels = dict(zip(keys, values))\n",
    "predictions_mapped = np.vectorize(status_labels.get)(predictions)"
   ]
  },
  {
   "cell_type": "code",
   "execution_count": 105,
   "metadata": {},
   "outputs": [
    {
     "name": "stdout",
     "output_type": "stream",
     "text": [
      "(14358, 40)\n",
      "(14358, 2)\n"
     ]
    },
    {
     "data": {
      "text/html": [
       "<div>\n",
       "<style scoped>\n",
       "    .dataframe tbody tr th:only-of-type {\n",
       "        vertical-align: middle;\n",
       "    }\n",
       "\n",
       "    .dataframe tbody tr th {\n",
       "        vertical-align: top;\n",
       "    }\n",
       "\n",
       "    .dataframe thead th {\n",
       "        text-align: right;\n",
       "    }\n",
       "</style>\n",
       "<table border=\"1\" class=\"dataframe\">\n",
       "  <thead>\n",
       "    <tr style=\"text-align: right;\">\n",
       "      <th></th>\n",
       "      <th>id</th>\n",
       "      <th>status_group</th>\n",
       "    </tr>\n",
       "  </thead>\n",
       "  <tbody>\n",
       "    <tr>\n",
       "      <th>0</th>\n",
       "      <td>50785</td>\n",
       "      <td>functional</td>\n",
       "    </tr>\n",
       "    <tr>\n",
       "      <th>1</th>\n",
       "      <td>51630</td>\n",
       "      <td>functional</td>\n",
       "    </tr>\n",
       "    <tr>\n",
       "      <th>2</th>\n",
       "      <td>17168</td>\n",
       "      <td>functional</td>\n",
       "    </tr>\n",
       "    <tr>\n",
       "      <th>3</th>\n",
       "      <td>45559</td>\n",
       "      <td>non functional</td>\n",
       "    </tr>\n",
       "    <tr>\n",
       "      <th>4</th>\n",
       "      <td>49871</td>\n",
       "      <td>functional</td>\n",
       "    </tr>\n",
       "  </tbody>\n",
       "</table>\n",
       "</div>"
      ],
      "text/plain": [
       "      id    status_group\n",
       "0  50785      functional\n",
       "1  51630      functional\n",
       "2  17168      functional\n",
       "3  45559  non functional\n",
       "4  49871      functional"
      ]
     },
     "execution_count": 105,
     "metadata": {},
     "output_type": "execute_result"
    }
   ],
   "source": [
    "#Create a  DataFrame with the passengers ids and our prediction regarding whether they survived or not\n",
    "submission = pd.DataFrame({'id':df_test['id'],'status_group':predictions_mapped})\n",
    "\n",
    "# make sure the shapes line up. \n",
    "print (df_test.shape)\n",
    "print (submission.shape)\n",
    "\n",
    "#Visualize the first 5 rows\n",
    "submission.head()"
   ]
  },
  {
   "cell_type": "code",
   "execution_count": 99,
   "metadata": {},
   "outputs": [
    {
     "name": "stdout",
     "output_type": "stream",
     "text": [
      "Saved file: submission.csv\n"
     ]
    }
   ],
   "source": [
    "#Convert DataFrame to a csv file that can be uploaded\n",
    "#This is saved in the same directory as your notebook\n",
    "filename = 'submission.csv'\n",
    "submission.to_csv(filename,index=False)\n",
    "print('Saved file: ' + filename)"
   ]
  },
  {
   "cell_type": "code",
   "execution_count": 115,
   "metadata": {},
   "outputs": [
    {
     "ename": "AttributeError",
     "evalue": "'function' object has no attribute 'to_csv'",
     "output_type": "error",
     "traceback": [
      "\u001b[0;31m---------------------------------------------------------------------------\u001b[0m",
      "\u001b[0;31mAttributeError\u001b[0m                            Traceback (most recent call last)",
      "\u001b[0;32m<ipython-input-115-f9b585d43234>\u001b[0m in \u001b[0;36m<module>\u001b[0;34m\u001b[0m\n\u001b[1;32m      3\u001b[0m \u001b[0mwards\u001b[0m \u001b[0;34m=\u001b[0m \u001b[0mpd\u001b[0m\u001b[0;34m.\u001b[0m\u001b[0mDataFrame\u001b[0m\u001b[0;34m(\u001b[0m\u001b[0mdf\u001b[0m\u001b[0;34m.\u001b[0m\u001b[0mward\u001b[0m\u001b[0;34m.\u001b[0m\u001b[0mvalue_counts\u001b[0m\u001b[0;34m(\u001b[0m\u001b[0;34m)\u001b[0m\u001b[0;34m)\u001b[0m\u001b[0;34m.\u001b[0m\u001b[0mreset_index\u001b[0m\u001b[0;34m\u001b[0m\u001b[0;34m\u001b[0m\u001b[0m\n\u001b[1;32m      4\u001b[0m \u001b[0mfilename\u001b[0m \u001b[0;34m=\u001b[0m \u001b[0;34m'wards.csv'\u001b[0m\u001b[0;34m\u001b[0m\u001b[0;34m\u001b[0m\u001b[0m\n\u001b[0;32m----> 5\u001b[0;31m \u001b[0mwards\u001b[0m\u001b[0;34m.\u001b[0m\u001b[0mto_csv\u001b[0m\u001b[0;34m(\u001b[0m\u001b[0mfilename\u001b[0m\u001b[0;34m,\u001b[0m\u001b[0mindex\u001b[0m\u001b[0;34m=\u001b[0m\u001b[0;32mFalse\u001b[0m\u001b[0;34m)\u001b[0m\u001b[0;34m\u001b[0m\u001b[0;34m\u001b[0m\u001b[0m\n\u001b[0m\u001b[1;32m      6\u001b[0m \u001b[0mprint\u001b[0m\u001b[0;34m(\u001b[0m\u001b[0;34m'Saved file: '\u001b[0m \u001b[0;34m+\u001b[0m \u001b[0mfilename\u001b[0m\u001b[0;34m)\u001b[0m\u001b[0;34m\u001b[0m\u001b[0;34m\u001b[0m\u001b[0m\n",
      "\u001b[0;31mAttributeError\u001b[0m: 'function' object has no attribute 'to_csv'"
     ]
    }
   ],
   "source": [
    "#Convert DataFrame to a csv file that can be uploaded\n",
    "#This is saved in the same directory as your notebook\n",
    "wards = pd.DataFrame(df.ward.value_counts()).reset_index\n",
    "filename = 'wards.csv'\n",
    "wards.to_csv(filename,index=False)\n",
    "print('Saved file: ' + filename)"
   ]
  },
  {
   "cell_type": "code",
   "execution_count": 114,
   "metadata": {},
   "outputs": [
    {
     "data": {
      "text/plain": [
       "<bound method DataFrame.reset_index of                   ward\n",
       "Igosi              307\n",
       "Imalinyi           252\n",
       "Siha Kati          232\n",
       "Mdandu             231\n",
       "Nduruma            217\n",
       "Mishamo            203\n",
       "Kitunda            203\n",
       "Msindo             201\n",
       "Chalinze           196\n",
       "Maji ya Chai       190\n",
       "Usuka              187\n",
       "Ngarenanyuki       172\n",
       "Chanika            171\n",
       "Vikindu            162\n",
       "Mtwango            153\n",
       "Matola             145\n",
       "Zinga/Ikerege      141\n",
       "Maramba            139\n",
       "Wanging'ombe       139\n",
       "Itete              137\n",
       "Magomeni           135\n",
       "Kikatiti           134\n",
       "Ifakara            134\n",
       "Olkokola           133\n",
       "Maposeni           130\n",
       "Igongolo           129\n",
       "Mvomero            129\n",
       "Mlangali           125\n",
       "Nkoma              122\n",
       "Nkungulu           121\n",
       "...                ...\n",
       "Kapilula             1\n",
       "Izia                 1\n",
       "Mawenzi              1\n",
       "Ifinga               1\n",
       "Kitete               1\n",
       "Mlimani              1\n",
       "Thawi                1\n",
       "Chinugulu            1\n",
       "Uchindile            1\n",
       "Sungwisi             1\n",
       "Nyamtinga            1\n",
       "Kirongo              1\n",
       "Themi                1\n",
       "Uwanja wa Ndege      1\n",
       "Ikweha               1\n",
       "Kinungu              1\n",
       "Kihangimahuka        1\n",
       "Burungura            1\n",
       "Matarawe             1\n",
       "Linda                1\n",
       "Korongoni            1\n",
       "Mwanga Kaskazini     1\n",
       "Machinjioni          1\n",
       "Igogo                1\n",
       "Simbay               1\n",
       "Ukata                1\n",
       "Nsemulwa             1\n",
       "Mitole               1\n",
       "Mkumbi               1\n",
       "Rasbura              1\n",
       "\n",
       "[2092 rows x 1 columns]>"
      ]
     },
     "execution_count": 114,
     "metadata": {},
     "output_type": "execute_result"
    }
   ],
   "source": [
    "wards = pd.DataFrame(df.ward.value_counts()).reset_index\n"
   ]
  },
  {
   "cell_type": "markdown",
   "metadata": {},
   "source": [
    "# MISC Ref Material"
   ]
  },
  {
   "cell_type": "code",
   "execution_count": null,
   "metadata": {},
   "outputs": [],
   "source": [
    "def get_column_names_from_ColumnTransformer(column_transformer):    \n",
    "    col_name = []\n",
    "    for transformer_in_columns in column_transformer.transformers_[:-1]:#the last transformer is ColumnTransformer's 'remainder'\n",
    "        raw_col_name = transformer_in_columns[2]\n",
    "        if isinstance(transformer_in_columns[1],Pipeline): \n",
    "            transformer = transformer_in_columns[1].steps[-1][1]\n",
    "        else:\n",
    "            transformer = transformer_in_columns[1]\n",
    "        try:\n",
    "            names = transformer.get_feature_names()\n",
    "        except AttributeError: # if no 'get_feature_names' function, use raw column name\n",
    "            names = raw_col_name\n",
    "        if isinstance(names,np.ndarray): # eg.\n",
    "            col_name += names.tolist()\n",
    "        elif isinstance(names,list):\n",
    "            col_name += names    \n",
    "        elif isinstance(names,str):\n",
    "            col_name.append(names)\n",
    "    return col_name\n",
    "\n",
    "get_column_names_from_ColumnTransformer(PreProcessor)"
   ]
  },
  {
   "cell_type": "code",
   "execution_count": null,
   "metadata": {
    "colab": {},
    "colab_type": "code",
    "id": "TlZG8ps43l_M"
   },
   "outputs": [],
   "source": [
    "# Rewriting my Dummy Regression Baseline one as a function\n",
    "def baseline(data):\n",
    "    name = \"Dummy Regression Baseline\"\n",
    "    # Split data into train and test\n",
    "    X_train, X_test, y_train, y_test = split(data)\n",
    "\n",
    "    # Define an estimator and param_grid\n",
    "    # WHEN DEFINING YOU CAN GIVE IT A NAME OTHERWISE IT WILL USE THE PIPELINE NAME AUTOGEN NAME (name of the function but lowercase)\n",
    "    pipe = make_pipeline(\n",
    "        PreProcesser(), \n",
    "        DummyRegressor(strategy='mean'))\n",
    "    pipe.fit(X_train, y_train)\n",
    "\n",
    "    scorer = 'MAE'\n",
    "\n",
    "    ### Get the scores with the MAE Function\n",
    "    y_pred_train = pipe.predict(X_train)  \n",
    "    y_pred_test = pipe.predict(X_test)\n",
    "\n",
    "    train_score = mean_absolute_error(y_train, y_pred_train)\n",
    "    test_score = mean_absolute_error(y_test, y_pred_test)\n",
    "    score_variance = test_score - train_score\n",
    "    cv_score = 0.0000000000000\n",
    "    best_params = pipe.get_params\n",
    "    best_estimator = \"\"\n",
    "    selected_names = list(X_train.columns)\n",
    "    unselected_names = []\n",
    "\n",
    "    return [name, scorer, train_score, test_score, score_variance, cv_score, selected_names, unselected_names, best_params, best_estimator]\n",
    "\n",
    "\n",
    "# Rewriting my GridSearch CV as a function \n",
    "def compare(data, name):\n",
    "    X_train, X_test, y_train, y_test = split(data)\n",
    "\n",
    "    pipe = make_pipeline(\n",
    "        PreProcessor, \n",
    "        SelectKBest(f_regression), \n",
    "        Ridge())\n",
    "\n",
    "    param_grid = {\n",
    "        'selectkbest__k': range(1, len(X_train.columns)+1), \n",
    "        'ridge__alpha': [0.1, 1.0, 10.]\n",
    "    }\n",
    "\n",
    "    scorer = 'MAE'\n",
    "\n",
    "    # Fit on the train set, with grid search cross-validation\n",
    "    gs = GridSearchCV(pipe, param_grid=param_grid, cv=3, \n",
    "                      scoring='neg_mean_absolute_error', \n",
    "                      verbose=0)\n",
    "    gs.fit(X_train, y_train)\n",
    "\n",
    "    train_score = -gs.score(X_train, y_train)\n",
    "    test_score = -gs.score(X_test, y_test)\n",
    "    score_variance = test_score - train_score\n",
    "    cv_score = -gs.best_score_\n",
    "    best_params = gs.best_params_\n",
    "    best_estimator = gs.best_estimator_\n",
    "\n",
    "    # selected features? \n",
    "    # 'selectkbest' is the autogenerated name of the SelectKBest() function in the pipeline\n",
    "    selector = gs.best_estimator_.named_steps['selectkbest']\n",
    "    all_names = X_train.columns\n",
    "\n",
    "    # get_support returns a mask of the columns in True / False\n",
    "    selected_mask = selector.get_support()\n",
    "    # Passing the boolean list as the column names creates a masked list.  \n",
    "    selected_names = list(all_names[selected_mask])\n",
    "    unselected_names = list(all_names[~selected_mask])\n",
    "\n",
    "    return [name, scorer, train_score, test_score, score_variance, cv_score, selected_names, unselected_names, best_params, best_estimator]"
   ]
  },
  {
   "cell_type": "code",
   "execution_count": null,
   "metadata": {},
   "outputs": [],
   "source": [
    "#pd.DataFrame({'Variable':X.columns,\n",
    "#              'Importance':clf2.named_steps['xgbclassifier'].feature_importances_}).sort_values('Importance', ascending=False)\n",
    "#pipe.steps[0][1].get_feature_names()"
   ]
  }
 ],
 "metadata": {
  "colab": {
   "collapsed_sections": [],
   "name": "Untitled13.ipynb",
   "provenance": [],
   "version": "0.3.2"
  },
  "kernelspec": {
   "display_name": "Python 3",
   "language": "python",
   "name": "python3"
  },
  "language_info": {
   "codemirror_mode": {
    "name": "ipython",
    "version": 3
   },
   "file_extension": ".py",
   "mimetype": "text/x-python",
   "name": "python",
   "nbconvert_exporter": "python",
   "pygments_lexer": "ipython3",
   "version": "3.6.8"
  }
 },
 "nbformat": 4,
 "nbformat_minor": 1
}
